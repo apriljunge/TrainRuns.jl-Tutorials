{
 "cells": [
  {
   "cell_type": "markdown",
   "id": "e169b8bd",
   "metadata": {},
   "source": [
    "# How to use _TrainRuns.jl_ - A basic tutorial."
   ]
  },
  {
   "cell_type": "markdown",
   "id": "de840eae",
   "metadata": {},
   "source": [
    "> This work is under ISC License.\n",
    ">\n",
    "> Copyright 2022 Martin Scheidt, ORCID: [0000-0002-9384-8945](https://orcid.org/0000-0002-9384-8945).\n",
    ">\n",
    "> Permission to use, copy, modify, and/or distribute this file for any purpose with or without fee is hereby granted, provided that the above copyright notice and this permission notice appear in all copies.\""
   ]
  },
  {
   "cell_type": "markdown",
   "id": "94eb4f98",
   "metadata": {},
   "source": [
    "## Introduction"
   ]
  },
  {
   "cell_type": "markdown",
   "id": "1e7b12bc",
   "metadata": {},
   "source": [
    "Besides _TrainRuns.jl_, we will need data for trains and running paths. You might find helpful rolling stock data at [railtoolkit/rolling-stock-data](https://github.com/railtoolkit/rolling-stock-data), which can be composed into a train. Path data is harder to come by: OpenStreetMap might be a good starting point.\n",
    "\n",
    "We will use predefined data as a showcase in this Tutorial with the following files:"
   ]
  },
  {
   "cell_type": "code",
   "execution_count": 2,
   "id": "10b1fa6b",
   "metadata": {},
   "outputs": [
    {
     "data": {
      "text/plain": [
       "7-element Vector{String}:\n",
       " \"block_sections.yaml\"\n",
       " \"freight_train.yaml\"\n",
       " \"local_train.yaml\"\n",
       " \"path_schema_example.yaml\"\n",
       " \"realworld_path.yaml\"\n",
       " \"simple_path.yaml\"\n",
       " \"train_schema_example.yaml\""
      ]
     },
     "execution_count": 2,
     "metadata": {},
     "output_type": "execute_result"
    }
   ],
   "source": [
    "readdir(\"data\")"
   ]
  },
  {
   "cell_type": "markdown",
   "id": "938b2a8e",
   "metadata": {},
   "source": [
    "As a prerequisite, we need to install a few packages:"
   ]
  },
  {
   "cell_type": "code",
   "execution_count": 46,
   "id": "2dac59a8",
   "metadata": {},
   "outputs": [],
   "source": [
    "# import Pkg\n",
    "# Pkg.add(\"TrainRuns\") # main package to calculate train runs\n",
    "# Pkg.add(\"Makie\")# visualization\n",
    "# Pkg.add(\"CairoMakie\")# visualization"
   ]
  },
  {
   "cell_type": "markdown",
   "id": "20ba7f6a",
   "metadata": {},
   "source": [
    "## Loading Train data"
   ]
  },
  {
   "cell_type": "markdown",
   "id": "b9f3f77c",
   "metadata": {},
   "source": [
    "To calculate train runs and work with data we need to load the package:"
   ]
  },
  {
   "cell_type": "code",
   "execution_count": 2,
   "id": "99fc57a8",
   "metadata": {},
   "outputs": [],
   "source": [
    "using TrainRuns"
   ]
  },
  {
   "cell_type": "markdown",
   "id": "ba7cd758",
   "metadata": {},
   "source": [
    "Next we can load data for a train and a path. Currently, the supported file format is a YAML file in the [railtoolkit/schema](https://github.com/railtoolkit/schema). The schema provides a simple data structure. The following (non-functional) example demonstrates the structure of a train:"
   ]
  },
  {
   "cell_type": "markdown",
   "id": "9c6b2ebb",
   "metadata": {},
   "source": [
    "```YAML\n",
    "%YAML 1.2\n",
    "---\n",
    "schema: https://railtoolkit.org/schema/rolling-stock.json\n",
    "schema_version: \"2022.05\"\n",
    "trains:\n",
    "  - name: \"example\"\n",
    "    id: \"1\"\n",
    "    formation: [veh1,veh2,veh2]\n",
    "\n",
    "vehicles:\n",
    "  - name: \"loco\"\n",
    "    id: \"veh1\"\n",
    "    vehicle_type: traction\n",
    "    length: 20\n",
    "    mass: 100\n",
    "    ...\n",
    "  - name: \"passenger car\"\n",
    "    id: \"veh2\"\n",
    "    vehicle_type: passenger\n",
    "    length: 30\n",
    "    mass: 40\n",
    "    ...\n",
    "```"
   ]
  },
  {
   "cell_type": "markdown",
   "id": "5b663fa9",
   "metadata": {},
   "source": [
    "We can load a train via the YAML file and the _Train_ type constructor:"
   ]
  },
  {
   "cell_type": "code",
   "execution_count": 3,
   "id": "63b26ecb",
   "metadata": {},
   "outputs": [
    {
     "data": {
      "text/plain": [
       "Train(\"V 90 with 10 ore wagons of type Facs 124\", \"Fr100\", UUID(\"b539eefc-21bb-41b0-8a48-1d56b8d56321\"), 204.71999999999997, 920000.0, 80000, 0, 840000.0, 1.0445454545454544, 1.09, 1.03, :freight, 22.22222222222222, -0.225, 2.2, 0, 0.01, 1.4000000000000001, 0.0, 3.8999999999999995, Tuple{Real, Real}[(0.0, 186940), (0.2777777777777778, 186940), (0.5555555555555556, 182310), (0.8333333333333333, 177680), (1.1111111111111112, 173050), (1.3888888888888888, 168420), (1.6666666666666665, 163790), (1.9444444444444444, 159160), (2.2222222222222223, 154530), (2.5, 149240)  …  (19.72222222222222, 30940), (20.0, 30440), (20.27777777777778, 29960), (20.555555555555554, 29490), (20.833333333333332, 29030), (21.11111111111111, 28590), (21.38888888888889, 28170), (21.666666666666668, 27760), (21.944444444444443, 27360), (22.22222222222222, 26980)])"
      ]
     },
     "execution_count": 3,
     "metadata": {},
     "output_type": "execute_result"
    }
   ],
   "source": [
    "freight_train = Train(\"data/freight_train.yaml\")"
   ]
  },
  {
   "cell_type": "markdown",
   "id": "eefbec88",
   "metadata": {},
   "source": [
    "... and a second train:"
   ]
  },
  {
   "cell_type": "code",
   "execution_count": 4,
   "id": "6f0800e7",
   "metadata": {},
   "outputs": [
    {
     "data": {
      "text/plain": [
       "Train(\"Regional Train\", \"RB50-1\", UUID(\"fefb45ef-fa25-430c-93cf-38e2e7bdba25\"), 41.7, 88000.0, 45333.0, 22667.0, 0, 1.08, 1.08, 0, :passenger, 33.333333333333336, -0.4253, 3.0, 1.4, 3.9, 0, 0, 0, Tuple{Real, Real}[(0.0, 94400), (0.2777777777777778, 94400), (0.5555555555555556, 92800), (0.8333333333333333, 91200), (1.1111111111111112, 89600), (1.3888888888888888, 88000), (1.6666666666666665, 86400), (1.9444444444444444, 84800), (2.2222222222222223, 83200), (2.5, 81600)  …  (30.833333333333332, 14460), (31.11111111111111, 14340), (31.38888888888889, 14210), (31.666666666666664, 14080), (31.944444444444443, 13960), (32.22222222222222, 13840), (32.5, 13720), (32.77777777777778, 13610), (33.05555555555556, 13490), (33.333333333333336, 13380)])"
      ]
     },
     "execution_count": 4,
     "metadata": {},
     "output_type": "execute_result"
    }
   ],
   "source": [
    "passenger_train = Train(\"data/local_train.yaml\")"
   ]
  },
  {
   "cell_type": "markdown",
   "id": "cb129515",
   "metadata": {},
   "source": [
    "## Loading path data"
   ]
  },
  {
   "cell_type": "markdown",
   "id": "6cd9e486",
   "metadata": {},
   "source": [
    "The [railtoolkit/schema](https://github.com/railtoolkit/schema) also provides a schema for path:"
   ]
  },
  {
   "cell_type": "markdown",
   "id": "34443238",
   "metadata": {},
   "source": [
    "```YAML\n",
    "%YAML 1.2\n",
    "---\n",
    "schema: https://railtoolkit.org/schema/running-path.json\n",
    "schema_version: \"2022.05\"\n",
    "paths:\n",
    "  - name: \"example\"\n",
    "    id: simple\n",
    "    points_of_interest:\n",
    "      # [ station in m,                name,   front or rear ]\n",
    "      - [      5000.00,            \"label1\",           front ]\n",
    "      - [      7500.00,            \"label2\",            rear ]\n",
    "      ...\n",
    "    characteristic_sections:\n",
    "      # [ station in m, speed limit in km/h, resistance in ‰ ]\n",
    "      - [          0.0,                 160,            0.00 ]\n",
    "      ...\n",
    "      - [      10000.0,                 160,            0.00 ]\n",
    "```"
   ]
  },
  {
   "cell_type": "markdown",
   "id": "46fa408e",
   "metadata": {},
   "source": [
    "It is assumed that a train run will start at the first Characteristic Section and end at the last Characteristic Section. If the train needs an intermediate stop, you will have to split the path into two separate ones. The Points of Interest can be used to compute running time values at the specified location either for the front or the rear of the train."
   ]
  },
  {
   "cell_type": "markdown",
   "id": "a324c599",
   "metadata": {},
   "source": [
    "We can load a path via the YAML file and the _Path_ type constructor:"
   ]
  },
  {
   "cell_type": "code",
   "execution_count": 6,
   "id": "bbe45ad7",
   "metadata": {},
   "outputs": [
    {
     "data": {
      "text/plain": [
       "Path(\"10 km, different gradient, 160 km/h\", \"simple\", UUID(\"efdd7a26-0bc8-44eb-8c95-7c659deaaef6\"), Any[Dict{Symbol, Any}(:station => 5000.0, :label => \"label1\", :measure => \"front\"), Dict{Symbol, Any}(:station => 7500.0, :label => \"label2\", :measure => \"rear\")], Any[Dict(:s_end => 1000.0, :v_limit => 44.44444444444444, :f_Rp => 0.0, :s_start => 0.0), Dict(:s_end => 2000.0, :v_limit => 44.44444444444444, :f_Rp => 1.0, :s_start => 1000.0), Dict(:s_end => 3000.0, :v_limit => 44.44444444444444, :f_Rp => 2.0, :s_start => 2000.0), Dict(:s_end => 4000.0, :v_limit => 44.44444444444444, :f_Rp => 5.0, :s_start => 3000.0), Dict(:s_end => 5000.0, :v_limit => 44.44444444444444, :f_Rp => -3.0, :s_start => 4000.0), Dict(:s_end => 6000.0, :v_limit => 44.44444444444444, :f_Rp => 5.0, :s_start => 5000.0), Dict(:s_end => 7000.0, :v_limit => 44.44444444444444, :f_Rp => -10.0, :s_start => 6000.0), Dict(:s_end => 8000.0, :v_limit => 44.44444444444444, :f_Rp => 15.0, :s_start => 7000.0), Dict(:s_end => 8500.0, :v_limit => 44.44444444444444, :f_Rp => -10.0, :s_start => 8000.0), Dict(:s_end => 9000.0, :v_limit => 44.44444444444444, :f_Rp => 20.0, :s_start => 8500.0), Dict(:s_end => 10000.0, :v_limit => 44.44444444444444, :f_Rp => 0.0, :s_start => 9000.0)])"
      ]
     },
     "execution_count": 6,
     "metadata": {},
     "output_type": "execute_result"
    }
   ],
   "source": [
    "simple_path = Path(\"data/simple_path.yaml\")"
   ]
  },
  {
   "cell_type": "markdown",
   "id": "2a38b0f0",
   "metadata": {},
   "source": [
    "## Calculating running times"
   ]
  },
  {
   "cell_type": "markdown",
   "id": "a49ec4d4",
   "metadata": {},
   "source": [
    "We now can calculate running times with the two trains and the path previously loaded with _trainrun()_:"
   ]
  },
  {
   "cell_type": "code",
   "execution_count": 7,
   "id": "f3847277",
   "metadata": {},
   "outputs": [
    {
     "data": {
      "text/html": [
       "<div class=\"data-frame\"><p>1 rows × 1 columns</p><table class=\"data-frame\"><thead><tr><th></th><th>t</th></tr><tr><th></th><th title=\"Float64\">Float64</th></tr></thead><tbody><tr><th>1</th><td>814.104</td></tr></tbody></table></div>"
      ],
      "text/latex": [
       "\\begin{tabular}{r|c}\n",
       "\t& t\\\\\n",
       "\t\\hline\n",
       "\t& Float64\\\\\n",
       "\t\\hline\n",
       "\t1 & 814.104 \\\\\n",
       "\\end{tabular}\n"
      ],
      "text/plain": [
       "\u001b[1m1×1 DataFrame\u001b[0m\n",
       "\u001b[1m Row \u001b[0m│\u001b[1m t       \u001b[0m\n",
       "\u001b[1m     \u001b[0m│\u001b[90m Float64 \u001b[0m\n",
       "─────┼─────────\n",
       "   1 │ 814.104"
      ]
     },
     "execution_count": 7,
     "metadata": {},
     "output_type": "execute_result"
    }
   ],
   "source": [
    "trainrun(freight_train, simple_path)"
   ]
  },
  {
   "cell_type": "markdown",
   "id": "abc9d7a7",
   "metadata": {},
   "source": [
    "The return value is a _DataFrame_ with a single value for the total running time. It seems over the top to return a _DataFrame_ for a single value, but this format was chosen to have a unified return value where more values are asked for."
   ]
  },
  {
   "cell_type": "markdown",
   "id": "f7ab2c05",
   "metadata": {},
   "source": [
    "We can access the value in the _DataFrame_ directly with `[row, column]`:"
   ]
  },
  {
   "cell_type": "code",
   "execution_count": 8,
   "id": "a95e4ba2",
   "metadata": {},
   "outputs": [
    {
     "data": {
      "text/plain": [
       "395.512"
      ]
     },
     "execution_count": 8,
     "metadata": {},
     "output_type": "execute_result"
    }
   ],
   "source": [
    "trainrun(passenger_train, simple_path)[end,:t]"
   ]
  },
  {
   "cell_type": "markdown",
   "id": "450166ab",
   "metadata": {},
   "source": [
    "All units of the values follow the SI-system - accordingly, the time is in seconds."
   ]
  },
  {
   "cell_type": "markdown",
   "id": "bc532c30",
   "metadata": {},
   "source": [
    "## Calculating Points of Interest"
   ]
  },
  {
   "cell_type": "markdown",
   "id": "4d54a4d7",
   "metadata": {},
   "source": [
    "_Points of Interest_ are points along the path where we want exact time, speed, and position. They can be calculated for the front or the rear of the train and have to be specified with a _label_ in the path file. To instruct the function to return the _Points of Interest_, we must change the settings:"
   ]
  },
  {
   "cell_type": "code",
   "execution_count": 9,
   "id": "41b7368e",
   "metadata": {},
   "outputs": [
    {
     "data": {
      "text/plain": [
       "Settings(:mass_point, :distance, 20, 3, :points_of_interest, :dataframe)"
      ]
     },
     "execution_count": 9,
     "metadata": {},
     "output_type": "execute_result"
    }
   ],
   "source": [
    "settings_poi = Settings(outputDetail=:points_of_interest)"
   ]
  },
  {
   "cell_type": "markdown",
   "id": "fd7fa0bd",
   "metadata": {},
   "source": [
    "Now the _DataFrame_ returns significantly more data:"
   ]
  },
  {
   "cell_type": "code",
   "execution_count": 10,
   "id": "bfd8310f",
   "metadata": {},
   "outputs": [
    {
     "data": {
      "text/html": [
       "<div class=\"data-frame\"><p>2 rows × 11 columns (omitted printing of 2 columns)</p><table class=\"data-frame\"><thead><tr><th></th><th>label</th><th>driving_mode</th><th>s</th><th>v</th><th>t</th><th>a</th><th>F_T</th><th>F_R</th><th>R_path</th></tr><tr><th></th><th title=\"String\">String</th><th title=\"String\">String</th><th title=\"Real\">Real</th><th title=\"Real\">Real</th><th title=\"Real\">Real</th><th title=\"Real\">Real</th><th title=\"Real\">Real</th><th title=\"Real\">Real</th><th title=\"Real\">Real</th></tr></thead><tbody><tr><th>1</th><td>label1</td><td>diminishing</td><td>5000.0</td><td>15.897</td><td>442.61</td><td>-0.031</td><td>39270.3</td><td>68894.9</td><td>45110.6</td></tr><tr><th>2</th><td>label2</td><td>diminishing</td><td>7704.72</td><td>14.893</td><td>607.816</td><td>-0.121</td><td>41903.7</td><td>1.57829e5</td><td>1.35332e5</td></tr></tbody></table></div>"
      ],
      "text/latex": [
       "\\begin{tabular}{r|cccccccccc}\n",
       "\t& label & driving\\_mode & s & v & t & a & F\\_T & F\\_R & R\\_path & \\\\\n",
       "\t\\hline\n",
       "\t& String & String & Real & Real & Real & Real & Real & Real & Real & \\\\\n",
       "\t\\hline\n",
       "\t1 & label1 & diminishing & 5000.0 & 15.897 & 442.61 & -0.031 & 39270.3 & 68894.9 & 45110.6 & $\\dots$ \\\\\n",
       "\t2 & label2 & diminishing & 7704.72 & 14.893 & 607.816 & -0.121 & 41903.7 & 1.57829e5 & 1.35332e5 & $\\dots$ \\\\\n",
       "\\end{tabular}\n"
      ],
      "text/plain": [
       "\u001b[1m2×11 DataFrame\u001b[0m\n",
       "\u001b[1m Row \u001b[0m│\u001b[1m label  \u001b[0m\u001b[1m driving_mode \u001b[0m\u001b[1m s       \u001b[0m\u001b[1m v      \u001b[0m\u001b[1m t       \u001b[0m\u001b[1m a      \u001b[0m\u001b[1m F_T     \u001b[0m\u001b[1m F_R   \u001b[0m ⋯\n",
       "\u001b[1m     \u001b[0m│\u001b[90m String \u001b[0m\u001b[90m String       \u001b[0m\u001b[90m Real    \u001b[0m\u001b[90m Real   \u001b[0m\u001b[90m Real    \u001b[0m\u001b[90m Real   \u001b[0m\u001b[90m Real    \u001b[0m\u001b[90m Real  \u001b[0m ⋯\n",
       "─────┼──────────────────────────────────────────────────────────────────────────\n",
       "   1 │ label1  diminishing   5000.0   15.897  442.61   -0.031  39270.3  68894. ⋯\n",
       "   2 │ label2  diminishing   7704.72  14.893  607.816  -0.121  41903.7      1.\n",
       "\u001b[36m                                                               4 columns omitted\u001b[0m"
      ]
     },
     "execution_count": 10,
     "metadata": {},
     "output_type": "execute_result"
    }
   ],
   "source": [
    "trainrun(freight_train, simple_path, settings_poi)"
   ]
  },
  {
   "cell_type": "markdown",
   "id": "1205dacb",
   "metadata": {},
   "source": [
    "## Blocking time"
   ]
  },
  {
   "cell_type": "markdown",
   "id": "8e20be2c",
   "metadata": {},
   "source": [
    "Blocking time is the time a train exclusivly occupies a block. The next train can follow after that time. The blocking time is vidualizte in a time-distance-diagram as follows:"
   ]
  },
  {
   "cell_type": "markdown",
   "id": "f7c2adca",
   "metadata": {},
   "source": [
    "![](figures/blocking_time_light.png)"
   ]
  },
  {
   "cell_type": "markdown",
   "id": "27ee827e",
   "metadata": {},
   "source": [
    "If we want to calculate the blocking time for a train run, we can add the distance of each element of a block in the list of _Points of Interest_ in the path description.\n",
    "\n",
    "Consider the following infrastructure with two blocks. The first block starts at the main signal _0_ and ends at the main signal _1_. The second block starts at the main signal _1_ and ends at the main signal _2_:"
   ]
  },
  {
   "cell_type": "markdown",
   "id": "a2232aa4",
   "metadata": {},
   "source": [
    "![](figures/infra_light.png)"
   ]
  },
  {
   "cell_type": "markdown",
   "id": "caa9cbb2",
   "metadata": {},
   "source": [
    "The infrastructure will translate into the following _Points of Interest_ with made up distances and meaningful labels:"
   ]
  },
  {
   "cell_type": "code",
   "execution_count": 12,
   "id": "ced15585",
   "metadata": {},
   "outputs": [
    {
     "name": "stdout",
     "output_type": "stream",
     "text": [
      "%YAML 1.2\n",
      "---\n",
      "schema: https://railtoolkit.org/schema/running-path.json\n",
      "schema_version: \"2022.05\"\n",
      "paths:\n",
      "  - name: \"10 km, 160 km/h\"\n",
      "    id: block_sections\n",
      "    UUID: b3e6f0b0-6109-45ea-a1e2-0f5b03c66203\n",
      "    points_of_interest:\n",
      "      # [ station in m,                 name,   front or rear ]\n",
      "      - [      1850.00,       \"0:view point\",           front ]\n",
      "      - [      2000.00,   \"0:distant signal\",           front ]\n",
      "      - [      3000.00,      \"0:main signal\",           front ]\n",
      "      - [      3050.00,   \"0:clearing point\",            rear ]\n",
      "      - [      3350.00,       \"1:view point\",           front ]\n",
      "      - [      3500.00,   \"1:distant signal\",           front ]\n",
      "      - [      4500.00,      \"1:main signal\",           front ]\n",
      "      - [      4550.00,   \"1:clearing point\",            rear ]\n",
      "      - [      4850.00,       \"2:view point\",           front ]\n",
      "      - [      5000.00,   \"2:distant signal\",           front ]\n",
      "      - [      6000.00,      \"2:main signal\",           front ]\n",
      "      - [      6050.00,   \"2:clearing point\",            rear ]\n",
      "    characteristic_sections:\n",
      "      # [ station in m,  speed limit in km/h, resistance in ‰ ]\n",
      "      - [          0.0,                  160,            0.00 ]\n",
      "      - [      10000.0,                  160,            0.00 ]\n",
      "\n"
     ]
    }
   ],
   "source": [
    "println(String(read(\"data/block_sections.yaml\")))"
   ]
  },
  {
   "cell_type": "markdown",
   "id": "53bdd9d9",
   "metadata": {},
   "source": [
    "First, we need to load the _Path_ with the _Points of Interest_:"
   ]
  },
  {
   "cell_type": "code",
   "execution_count": 13,
   "id": "e481fb3b",
   "metadata": {},
   "outputs": [
    {
     "data": {
      "text/plain": [
       "Path(\"10 km, 160 km/h\", \"block_sections\", UUID(\"b3e6f0b0-6109-45ea-a1e2-0f5b03c66203\"), Any[Dict{Symbol, Any}(:station => 1850.0, :label => \"0:view point\", :measure => \"front\"), Dict{Symbol, Any}(:station => 2000.0, :label => \"0:distant signal\", :measure => \"front\"), Dict{Symbol, Any}(:station => 3000.0, :label => \"0:main signal\", :measure => \"front\"), Dict{Symbol, Any}(:station => 3050.0, :label => \"0:clearing point\", :measure => \"rear\"), Dict{Symbol, Any}(:station => 3350.0, :label => \"1:view point\", :measure => \"front\"), Dict{Symbol, Any}(:station => 3500.0, :label => \"1:distant signal\", :measure => \"front\"), Dict{Symbol, Any}(:station => 4500.0, :label => \"1:main signal\", :measure => \"front\"), Dict{Symbol, Any}(:station => 4550.0, :label => \"1:clearing point\", :measure => \"rear\"), Dict{Symbol, Any}(:station => 4850.0, :label => \"2:view point\", :measure => \"front\"), Dict{Symbol, Any}(:station => 5000.0, :label => \"2:distant signal\", :measure => \"front\"), Dict{Symbol, Any}(:station => 6000.0, :label => \"2:main signal\", :measure => \"front\"), Dict{Symbol, Any}(:station => 6050.0, :label => \"2:clearing point\", :measure => \"rear\")], Any[Dict(:s_end => 10000.0, :v_limit => 44.44444444444444, :f_Rp => 0.0, :s_start => 0.0)])"
      ]
     },
     "execution_count": 13,
     "metadata": {},
     "output_type": "execute_result"
    }
   ],
   "source": [
    "block_sections = Path(\"data/block_sections.yaml\")"
   ]
  },
  {
   "cell_type": "markdown",
   "id": "ed8ae5ef",
   "metadata": {},
   "source": [
    "Then, we can calculate the passing of the train at these points:"
   ]
  },
  {
   "cell_type": "code",
   "execution_count": 14,
   "id": "88f72f79",
   "metadata": {},
   "outputs": [
    {
     "data": {
      "text/html": [
       "<div class=\"data-frame\"><p>12 rows × 11 columns (omitted printing of 3 columns)</p><table class=\"data-frame\"><thead><tr><th></th><th>label</th><th>driving_mode</th><th>s</th><th>v</th><th>t</th><th>a</th><th>F_T</th><th>F_R</th></tr><tr><th></th><th title=\"String\">String</th><th title=\"String\">String</th><th title=\"Real\">Real</th><th title=\"Real\">Real</th><th title=\"Real\">Real</th><th title=\"Real\">Real</th><th title=\"Real\">Real</th><th title=\"Real\">Real</th></tr></thead><tbody><tr><th>1</th><td>0:view point</td><td>accelerating</td><td>1850.0</td><td>26.897</td><td>101.495</td><td>0.106</td><td>14968.5</td><td>4897.38</td></tr><tr><th>2</th><td>0:distant signal</td><td>accelerating</td><td>2000.0</td><td>27.476</td><td>107.012</td><td>0.104</td><td>14864.3</td><td>5019.73</td></tr><tr><th>3</th><td>0:main signal</td><td>accelerating</td><td>3000.0</td><td>30.788</td><td>141.292</td><td>0.091</td><td>14435.8</td><td>5763.22</td></tr><tr><th>4</th><td>0:clearing point</td><td>accelerating</td><td>3091.7</td><td>31.058</td><td>144.257</td><td>0.09</td><td>14363.0</td><td>5826.95</td></tr><tr><th>5</th><td>1:view point</td><td>accelerating</td><td>3350.0</td><td>31.776</td><td>152.478</td><td>0.085</td><td>14032.8</td><td>5999.19</td></tr><tr><th>6</th><td>1:distant signal</td><td>accelerating</td><td>3500.0</td><td>32.167</td><td>157.17</td><td>0.082</td><td>13864.0</td><td>6094.4</td></tr><tr><th>7</th><td>1:main signal</td><td>cruising</td><td>4500.0</td><td>33.333</td><td>187.428</td><td>0.0</td><td>6384.71</td><td>6384.71</td></tr><tr><th>8</th><td>1:clearing point</td><td>cruising</td><td>4591.7</td><td>33.333</td><td>190.179</td><td>0.0</td><td>6384.71</td><td>6384.71</td></tr><tr><th>9</th><td>2:view point</td><td>cruising</td><td>4850.0</td><td>33.333</td><td>197.928</td><td>0.0</td><td>6384.71</td><td>6384.71</td></tr><tr><th>10</th><td>2:distant signal</td><td>cruising</td><td>5000.0</td><td>33.333</td><td>202.428</td><td>0.0</td><td>6384.71</td><td>6384.71</td></tr><tr><th>11</th><td>2:main signal</td><td>cruising</td><td>6000.0</td><td>33.333</td><td>232.428</td><td>0.0</td><td>6384.71</td><td>6384.71</td></tr><tr><th>12</th><td>2:clearing point</td><td>cruising</td><td>6091.7</td><td>33.333</td><td>235.179</td><td>0.0</td><td>6384.71</td><td>6384.71</td></tr></tbody></table></div>"
      ],
      "text/latex": [
       "\\begin{tabular}{r|ccccccccc}\n",
       "\t& label & driving\\_mode & s & v & t & a & F\\_T & F\\_R & \\\\\n",
       "\t\\hline\n",
       "\t& String & String & Real & Real & Real & Real & Real & Real & \\\\\n",
       "\t\\hline\n",
       "\t1 & 0:view point & accelerating & 1850.0 & 26.897 & 101.495 & 0.106 & 14968.5 & 4897.38 & $\\dots$ \\\\\n",
       "\t2 & 0:distant signal & accelerating & 2000.0 & 27.476 & 107.012 & 0.104 & 14864.3 & 5019.73 & $\\dots$ \\\\\n",
       "\t3 & 0:main signal & accelerating & 3000.0 & 30.788 & 141.292 & 0.091 & 14435.8 & 5763.22 & $\\dots$ \\\\\n",
       "\t4 & 0:clearing point & accelerating & 3091.7 & 31.058 & 144.257 & 0.09 & 14363.0 & 5826.95 & $\\dots$ \\\\\n",
       "\t5 & 1:view point & accelerating & 3350.0 & 31.776 & 152.478 & 0.085 & 14032.8 & 5999.19 & $\\dots$ \\\\\n",
       "\t6 & 1:distant signal & accelerating & 3500.0 & 32.167 & 157.17 & 0.082 & 13864.0 & 6094.4 & $\\dots$ \\\\\n",
       "\t7 & 1:main signal & cruising & 4500.0 & 33.333 & 187.428 & 0.0 & 6384.71 & 6384.71 & $\\dots$ \\\\\n",
       "\t8 & 1:clearing point & cruising & 4591.7 & 33.333 & 190.179 & 0.0 & 6384.71 & 6384.71 & $\\dots$ \\\\\n",
       "\t9 & 2:view point & cruising & 4850.0 & 33.333 & 197.928 & 0.0 & 6384.71 & 6384.71 & $\\dots$ \\\\\n",
       "\t10 & 2:distant signal & cruising & 5000.0 & 33.333 & 202.428 & 0.0 & 6384.71 & 6384.71 & $\\dots$ \\\\\n",
       "\t11 & 2:main signal & cruising & 6000.0 & 33.333 & 232.428 & 0.0 & 6384.71 & 6384.71 & $\\dots$ \\\\\n",
       "\t12 & 2:clearing point & cruising & 6091.7 & 33.333 & 235.179 & 0.0 & 6384.71 & 6384.71 & $\\dots$ \\\\\n",
       "\\end{tabular}\n"
      ],
      "text/plain": [
       "\u001b[1m12×11 DataFrame\u001b[0m\n",
       "\u001b[1m Row \u001b[0m│\u001b[1m label            \u001b[0m\u001b[1m driving_mode \u001b[0m\u001b[1m s      \u001b[0m\u001b[1m v      \u001b[0m\u001b[1m t       \u001b[0m\u001b[1m a     \u001b[0m\u001b[1m F_T    \u001b[0m ⋯\n",
       "\u001b[1m     \u001b[0m│\u001b[90m String           \u001b[0m\u001b[90m String       \u001b[0m\u001b[90m Real   \u001b[0m\u001b[90m Real   \u001b[0m\u001b[90m Real    \u001b[0m\u001b[90m Real  \u001b[0m\u001b[90m Real   \u001b[0m ⋯\n",
       "─────┼──────────────────────────────────────────────────────────────────────────\n",
       "   1 │ 0:view point      accelerating  1850.0  26.897  101.495  0.106  14968.5 ⋯\n",
       "   2 │ 0:distant signal  accelerating  2000.0  27.476  107.012  0.104  14864.3\n",
       "   3 │ 0:main signal     accelerating  3000.0  30.788  141.292  0.091  14435.8\n",
       "   4 │ 0:clearing point  accelerating  3091.7  31.058  144.257  0.09   14363.0\n",
       "   5 │ 1:view point      accelerating  3350.0  31.776  152.478  0.085  14032.8 ⋯\n",
       "   6 │ 1:distant signal  accelerating  3500.0  32.167  157.17   0.082  13864.0\n",
       "   7 │ 1:main signal     cruising      4500.0  33.333  187.428  0.0     6384.7\n",
       "   8 │ 1:clearing point  cruising      4591.7  33.333  190.179  0.0     6384.7\n",
       "   9 │ 2:view point      cruising      4850.0  33.333  197.928  0.0     6384.7 ⋯\n",
       "  10 │ 2:distant signal  cruising      5000.0  33.333  202.428  0.0     6384.7\n",
       "  11 │ 2:main signal     cruising      6000.0  33.333  232.428  0.0     6384.7\n",
       "  12 │ 2:clearing point  cruising      6091.7  33.333  235.179  0.0     6384.7\n",
       "\u001b[36m                                                               5 columns omitted\u001b[0m"
      ]
     },
     "execution_count": 14,
     "metadata": {},
     "output_type": "execute_result"
    }
   ],
   "source": [
    "run_block = trainrun(passenger_train, block_sections, settings_poi)"
   ]
  },
  {
   "cell_type": "markdown",
   "id": "c5043050",
   "metadata": {},
   "source": [
    "With the _DataFrame_ above we can filter the times we need for the occupation time of Block A (from signal 0 to signal 1).\n",
    "\n",
    "The starting time of the occupation begins with the view point:"
   ]
  },
  {
   "cell_type": "code",
   "execution_count": 15,
   "id": "e4db9463",
   "metadata": {},
   "outputs": [
    {
     "data": {
      "text/plain": [
       "101.495"
      ]
     },
     "execution_count": 15,
     "metadata": {},
     "output_type": "execute_result"
    }
   ],
   "source": [
    "start_block_A = filter(row -> any(occursin.([\"0:view point\"], row.label)), run_block)[1,:t]"
   ]
  },
  {
   "cell_type": "markdown",
   "id": "a1fb8559",
   "metadata": {},
   "source": [
    "The trains enters the block at the first main signal (0) and leaves it at the second main signal (1):"
   ]
  },
  {
   "cell_type": "code",
   "execution_count": 16,
   "id": "14876baf",
   "metadata": {},
   "outputs": [
    {
     "data": {
      "text/plain": [
       "3000.0"
      ]
     },
     "execution_count": 16,
     "metadata": {},
     "output_type": "execute_result"
    }
   ],
   "source": [
    "ingress_block_A = filter(row -> any(occursin.([\"0:main signal\"], row.label)), run_block)[1,:s]"
   ]
  },
  {
   "cell_type": "code",
   "execution_count": 17,
   "id": "c03a0b11",
   "metadata": {},
   "outputs": [
    {
     "data": {
      "text/plain": [
       "4500.0"
      ]
     },
     "execution_count": 17,
     "metadata": {},
     "output_type": "execute_result"
    }
   ],
   "source": [
    "egress_block_A = filter(row -> any(occursin.([\"1:main signal\"], row.label)), run_block)[1,:s]"
   ]
  },
  {
   "cell_type": "markdown",
   "id": "95445bee",
   "metadata": {},
   "source": [
    "The occupation time ends when the train clears the block at the clearing point:"
   ]
  },
  {
   "cell_type": "code",
   "execution_count": 18,
   "id": "41cde1d6",
   "metadata": {},
   "outputs": [
    {
     "data": {
      "text/plain": [
       "190.179"
      ]
     },
     "execution_count": 18,
     "metadata": {},
     "output_type": "execute_result"
    }
   ],
   "source": [
    "end_block_A = filter(row -> any(occursin.([\"1:clearing point\"], row.label)), run_block)[1,:t]"
   ]
  },
  {
   "cell_type": "markdown",
   "id": "1895fc44",
   "metadata": {},
   "source": [
    "With the filtered data we can calculate the occupation time and the block length:"
   ]
  },
  {
   "cell_type": "code",
   "execution_count": 20,
   "id": "bfd84426",
   "metadata": {},
   "outputs": [
    {
     "data": {
      "text/plain": [
       "88.684"
      ]
     },
     "execution_count": 20,
     "metadata": {},
     "output_type": "execute_result"
    }
   ],
   "source": [
    "blocking_time_A = end_block_A - start_block_A"
   ]
  },
  {
   "cell_type": "code",
   "execution_count": 21,
   "id": "ac872f63",
   "metadata": {},
   "outputs": [
    {
     "data": {
      "text/plain": [
       "1500.0"
      ]
     },
     "execution_count": 21,
     "metadata": {},
     "output_type": "execute_result"
    }
   ],
   "source": [
    "block_length_A = egress_block_A - ingress_block_A"
   ]
  },
  {
   "cell_type": "markdown",
   "id": "abd5f420",
   "metadata": {},
   "source": [
    "And we can do the same for Block B (from signal 1 to signal 2):"
   ]
  },
  {
   "cell_type": "code",
   "execution_count": 22,
   "id": "5ef9e368",
   "metadata": {},
   "outputs": [
    {
     "data": {
      "text/plain": [
       "152.478"
      ]
     },
     "execution_count": 22,
     "metadata": {},
     "output_type": "execute_result"
    }
   ],
   "source": [
    "start_block_B = filter(row -> any(occursin.([\"1:view point\"], row.label)), run_block)[1,:t]"
   ]
  },
  {
   "cell_type": "code",
   "execution_count": 23,
   "id": "366e070b",
   "metadata": {},
   "outputs": [
    {
     "data": {
      "text/plain": [
       "4500.0"
      ]
     },
     "execution_count": 23,
     "metadata": {},
     "output_type": "execute_result"
    }
   ],
   "source": [
    "ingress_block_B = filter(row -> any(occursin.([\"1:main signal\"], row.label)), run_block)[1,:s]"
   ]
  },
  {
   "cell_type": "code",
   "execution_count": 24,
   "id": "d6361b59",
   "metadata": {},
   "outputs": [
    {
     "data": {
      "text/plain": [
       "235.179"
      ]
     },
     "execution_count": 24,
     "metadata": {},
     "output_type": "execute_result"
    }
   ],
   "source": [
    "end_block_B = filter(row -> any(occursin.([\"2:clearing point\"], row.label)), run_block)[1,:t]"
   ]
  },
  {
   "cell_type": "code",
   "execution_count": 25,
   "id": "6668ca1d",
   "metadata": {},
   "outputs": [
    {
     "data": {
      "text/plain": [
       "6000.0"
      ]
     },
     "execution_count": 25,
     "metadata": {},
     "output_type": "execute_result"
    }
   ],
   "source": [
    "egress_block_B = filter(row -> any(occursin.([\"2:main signal\"], row.label)), run_block)[1,:s]"
   ]
  },
  {
   "cell_type": "code",
   "execution_count": 26,
   "id": "e2498689",
   "metadata": {},
   "outputs": [
    {
     "data": {
      "text/plain": [
       "82.701"
      ]
     },
     "execution_count": 26,
     "metadata": {},
     "output_type": "execute_result"
    }
   ],
   "source": [
    "blocking_time_B = end_block_B - start_block_B"
   ]
  },
  {
   "cell_type": "code",
   "execution_count": 27,
   "id": "aec1622e",
   "metadata": {},
   "outputs": [
    {
     "data": {
      "text/plain": [
       "1500.0"
      ]
     },
     "execution_count": 27,
     "metadata": {},
     "output_type": "execute_result"
    }
   ],
   "source": [
    "block_length_B = egress_block_B - ingress_block_B"
   ]
  },
  {
   "cell_type": "markdown",
   "id": "11db0250",
   "metadata": {},
   "source": [
    "Note: For the complete blocking time we should add a time for clearing the signal and a release time. But for this example we will waive."
   ]
  },
  {
   "cell_type": "markdown",
   "id": "1dce67c7",
   "metadata": {},
   "source": [
    "## Visualization"
   ]
  },
  {
   "cell_type": "markdown",
   "id": "d5be56c1",
   "metadata": {},
   "source": [
    "If we want not only to calculate running times and blocking times but also plot them, we need some additional packages for plotting:"
   ]
  },
  {
   "cell_type": "code",
   "execution_count": 28,
   "id": "4a4ce393",
   "metadata": {},
   "outputs": [],
   "source": [
    "using CairoMakie"
   ]
  },
  {
   "cell_type": "markdown",
   "id": "5c80b978",
   "metadata": {},
   "source": [
    "It is necessary to have enough data points so that the plot covers the complete train run and has a relatively smooth curve for plotting.\n",
    "\n",
    "To achieve this, we change the settings of the _outputDetails_ to give us the `driving_course` for all the data points:"
   ]
  },
  {
   "cell_type": "code",
   "execution_count": 29,
   "id": "690ead3b",
   "metadata": {},
   "outputs": [
    {
     "data": {
      "text/plain": [
       "Settings(:mass_point, :distance, 20, 3, :driving_course, :dataframe)"
      ]
     },
     "execution_count": 29,
     "metadata": {},
     "output_type": "execute_result"
    }
   ],
   "source": [
    "settings_all = Settings(outputDetail=:driving_course)"
   ]
  },
  {
   "cell_type": "markdown",
   "id": "c65add89",
   "metadata": {},
   "source": [
    "... and than execute the run:"
   ]
  },
  {
   "cell_type": "code",
   "execution_count": 30,
   "id": "53bd3691",
   "metadata": {},
   "outputs": [
    {
     "data": {
      "text/html": [
       "<div class=\"data-frame\"><p>295 rows × 11 columns (omitted printing of 1 columns)</p><table class=\"data-frame\"><thead><tr><th></th><th>label</th><th>driving_mode</th><th>s</th><th>v</th><th>t</th><th>a</th><th>F_T</th><th>F_R</th><th>R_path</th><th>R_traction</th></tr><tr><th></th><th title=\"String\">String</th><th title=\"String\">String</th><th title=\"Real\">Real</th><th title=\"Real\">Real</th><th title=\"Real\">Real</th><th title=\"Real\">Real</th><th title=\"Real\">Real</th><th title=\"Real\">Real</th><th title=\"Real\">Real</th><th title=\"Real\">Real</th></tr></thead><tbody><tr><th>1</th><td></td><td>breakFree</td><td>0.0</td><td>0.0</td><td>0.0</td><td>0.975</td><td>94400.0</td><td>1703.41</td><td>0.0</td><td>1703.41</td></tr><tr><th>2</th><td></td><td>accelerating</td><td>20.0</td><td>6.246</td><td>6.404</td><td>0.575</td><td>56681.3</td><td>2010.35</td><td>0.0</td><td>2010.35</td></tr><tr><th>3</th><td></td><td>accelerating</td><td>40.0</td><td>7.875</td><td>9.237</td><td>0.459</td><td>45712.2</td><td>2133.67</td><td>0.0</td><td>2133.67</td></tr><tr><th>4</th><td></td><td>accelerating</td><td>60.0</td><td>8.965</td><td>11.612</td><td>0.384</td><td>38677.3</td><td>2226.08</td><td>0.0</td><td>2226.08</td></tr><tr><th>5</th><td></td><td>accelerating</td><td>80.0</td><td>9.783</td><td>13.745</td><td>0.359</td><td>36379.5</td><td>2300.78</td><td>0.0</td><td>2300.78</td></tr><tr><th>6</th><td></td><td>accelerating</td><td>100.0</td><td>10.49</td><td>15.718</td><td>0.35</td><td>35600.0</td><td>2368.99</td><td>0.0</td><td>2368.99</td></tr><tr><th>7</th><td></td><td>accelerating</td><td>120.0</td><td>11.137</td><td>17.568</td><td>0.349</td><td>35600.0</td><td>2434.29</td><td>0.0</td><td>2434.29</td></tr><tr><th>8</th><td></td><td>accelerating</td><td>140.0</td><td>11.747</td><td>19.316</td><td>0.348</td><td>35585.5</td><td>2498.47</td><td>0.0</td><td>2498.47</td></tr><tr><th>9</th><td></td><td>accelerating</td><td>160.0</td><td>12.326</td><td>20.978</td><td>0.343</td><td>35179.6</td><td>2561.66</td><td>0.0</td><td>2561.66</td></tr><tr><th>10</th><td></td><td>accelerating</td><td>180.0</td><td>12.87</td><td>22.565</td><td>0.336</td><td>34586.6</td><td>2623.24</td><td>0.0</td><td>2623.24</td></tr><tr><th>11</th><td></td><td>accelerating</td><td>200.0</td><td>13.383</td><td>24.089</td><td>0.324</td><td>33438.9</td><td>2682.97</td><td>0.0</td><td>2682.97</td></tr><tr><th>12</th><td></td><td>accelerating</td><td>220.0</td><td>13.858</td><td>25.557</td><td>0.311</td><td>32293.4</td><td>2739.95</td><td>0.0</td><td>2739.95</td></tr><tr><th>13</th><td></td><td>accelerating</td><td>240.0</td><td>14.3</td><td>26.978</td><td>0.276</td><td>29055.8</td><td>2794.28</td><td>0.0</td><td>2794.28</td></tr><tr><th>14</th><td></td><td>accelerating</td><td>260.0</td><td>14.681</td><td>28.358</td><td>0.247</td><td>26300.0</td><td>2842.24</td><td>0.0</td><td>2842.24</td></tr><tr><th>15</th><td></td><td>accelerating</td><td>280.0</td><td>15.014</td><td>29.705</td><td>0.246</td><td>26300.0</td><td>2884.86</td><td>0.0</td><td>2884.86</td></tr><tr><th>16</th><td></td><td>accelerating</td><td>300.0</td><td>15.338</td><td>31.023</td><td>0.246</td><td>26300.0</td><td>2927.2</td><td>0.0</td><td>2927.2</td></tr><tr><th>17</th><td></td><td>accelerating</td><td>320.0</td><td>15.656</td><td>32.313</td><td>0.244</td><td>26188.3</td><td>2969.27</td><td>0.0</td><td>2969.27</td></tr><tr><th>18</th><td></td><td>accelerating</td><td>340.0</td><td>15.965</td><td>33.578</td><td>0.241</td><td>25919.1</td><td>3010.88</td><td>0.0</td><td>3010.88</td></tr><tr><th>19</th><td></td><td>accelerating</td><td>360.0</td><td>16.264</td><td>34.82</td><td>0.239</td><td>25757.5</td><td>3051.78</td><td>0.0</td><td>3051.78</td></tr><tr><th>20</th><td></td><td>accelerating</td><td>380.0</td><td>16.555</td><td>36.038</td><td>0.237</td><td>25600.3</td><td>3092.17</td><td>0.0</td><td>3092.17</td></tr><tr><th>21</th><td></td><td>accelerating</td><td>400.0</td><td>16.839</td><td>37.236</td><td>0.235</td><td>25447.1</td><td>3132.07</td><td>0.0</td><td>3132.07</td></tr><tr><th>22</th><td></td><td>accelerating</td><td>420.0</td><td>17.115</td><td>38.414</td><td>0.233</td><td>25297.7</td><td>3171.49</td><td>0.0</td><td>3171.49</td></tr><tr><th>23</th><td></td><td>accelerating</td><td>440.0</td><td>17.385</td><td>39.574</td><td>0.231</td><td>25152.0</td><td>3210.46</td><td>0.0</td><td>3210.46</td></tr><tr><th>24</th><td></td><td>accelerating</td><td>460.0</td><td>17.649</td><td>40.715</td><td>0.23</td><td>25116.8</td><td>3248.99</td><td>0.0</td><td>3248.99</td></tr><tr><th>25</th><td></td><td>accelerating</td><td>480.0</td><td>17.908</td><td>41.84</td><td>0.228</td><td>24962.3</td><td>3287.28</td><td>0.0</td><td>3287.28</td></tr><tr><th>26</th><td></td><td>accelerating</td><td>500.0</td><td>18.161</td><td>42.949</td><td>0.224</td><td>24616.3</td><td>3325.14</td><td>0.0</td><td>3325.14</td></tr><tr><th>27</th><td></td><td>accelerating</td><td>520.0</td><td>18.406</td><td>44.043</td><td>0.22</td><td>24286.2</td><td>3362.22</td><td>0.0</td><td>3362.22</td></tr><tr><th>28</th><td></td><td>accelerating</td><td>540.0</td><td>18.643</td><td>45.123</td><td>0.217</td><td>23978.2</td><td>3398.58</td><td>0.0</td><td>3398.58</td></tr><tr><th>29</th><td></td><td>accelerating</td><td>560.0</td><td>18.874</td><td>46.189</td><td>0.213</td><td>23679.0</td><td>3434.26</td><td>0.0</td><td>3434.26</td></tr><tr><th>30</th><td></td><td>accelerating</td><td>580.0</td><td>19.099</td><td>47.242</td><td>0.21</td><td>23403.3</td><td>3469.28</td><td>0.0</td><td>3469.28</td></tr><tr><th>&vellip;</th><td>&vellip;</td><td>&vellip;</td><td>&vellip;</td><td>&vellip;</td><td>&vellip;</td><td>&vellip;</td><td>&vellip;</td><td>&vellip;</td><td>&vellip;</td><td>&vellip;</td></tr></tbody></table></div>"
      ],
      "text/latex": [
       "\\begin{tabular}{r|ccccccccccc}\n",
       "\t& label & driving\\_mode & s & v & t & a & F\\_T & F\\_R & R\\_path & R\\_traction & \\\\\n",
       "\t\\hline\n",
       "\t& String & String & Real & Real & Real & Real & Real & Real & Real & Real & \\\\\n",
       "\t\\hline\n",
       "\t1 &  & breakFree & 0.0 & 0.0 & 0.0 & 0.975 & 94400.0 & 1703.41 & 0.0 & 1703.41 & $\\dots$ \\\\\n",
       "\t2 &  & accelerating & 20.0 & 6.246 & 6.404 & 0.575 & 56681.3 & 2010.35 & 0.0 & 2010.35 & $\\dots$ \\\\\n",
       "\t3 &  & accelerating & 40.0 & 7.875 & 9.237 & 0.459 & 45712.2 & 2133.67 & 0.0 & 2133.67 & $\\dots$ \\\\\n",
       "\t4 &  & accelerating & 60.0 & 8.965 & 11.612 & 0.384 & 38677.3 & 2226.08 & 0.0 & 2226.08 & $\\dots$ \\\\\n",
       "\t5 &  & accelerating & 80.0 & 9.783 & 13.745 & 0.359 & 36379.5 & 2300.78 & 0.0 & 2300.78 & $\\dots$ \\\\\n",
       "\t6 &  & accelerating & 100.0 & 10.49 & 15.718 & 0.35 & 35600.0 & 2368.99 & 0.0 & 2368.99 & $\\dots$ \\\\\n",
       "\t7 &  & accelerating & 120.0 & 11.137 & 17.568 & 0.349 & 35600.0 & 2434.29 & 0.0 & 2434.29 & $\\dots$ \\\\\n",
       "\t8 &  & accelerating & 140.0 & 11.747 & 19.316 & 0.348 & 35585.5 & 2498.47 & 0.0 & 2498.47 & $\\dots$ \\\\\n",
       "\t9 &  & accelerating & 160.0 & 12.326 & 20.978 & 0.343 & 35179.6 & 2561.66 & 0.0 & 2561.66 & $\\dots$ \\\\\n",
       "\t10 &  & accelerating & 180.0 & 12.87 & 22.565 & 0.336 & 34586.6 & 2623.24 & 0.0 & 2623.24 & $\\dots$ \\\\\n",
       "\t11 &  & accelerating & 200.0 & 13.383 & 24.089 & 0.324 & 33438.9 & 2682.97 & 0.0 & 2682.97 & $\\dots$ \\\\\n",
       "\t12 &  & accelerating & 220.0 & 13.858 & 25.557 & 0.311 & 32293.4 & 2739.95 & 0.0 & 2739.95 & $\\dots$ \\\\\n",
       "\t13 &  & accelerating & 240.0 & 14.3 & 26.978 & 0.276 & 29055.8 & 2794.28 & 0.0 & 2794.28 & $\\dots$ \\\\\n",
       "\t14 &  & accelerating & 260.0 & 14.681 & 28.358 & 0.247 & 26300.0 & 2842.24 & 0.0 & 2842.24 & $\\dots$ \\\\\n",
       "\t15 &  & accelerating & 280.0 & 15.014 & 29.705 & 0.246 & 26300.0 & 2884.86 & 0.0 & 2884.86 & $\\dots$ \\\\\n",
       "\t16 &  & accelerating & 300.0 & 15.338 & 31.023 & 0.246 & 26300.0 & 2927.2 & 0.0 & 2927.2 & $\\dots$ \\\\\n",
       "\t17 &  & accelerating & 320.0 & 15.656 & 32.313 & 0.244 & 26188.3 & 2969.27 & 0.0 & 2969.27 & $\\dots$ \\\\\n",
       "\t18 &  & accelerating & 340.0 & 15.965 & 33.578 & 0.241 & 25919.1 & 3010.88 & 0.0 & 3010.88 & $\\dots$ \\\\\n",
       "\t19 &  & accelerating & 360.0 & 16.264 & 34.82 & 0.239 & 25757.5 & 3051.78 & 0.0 & 3051.78 & $\\dots$ \\\\\n",
       "\t20 &  & accelerating & 380.0 & 16.555 & 36.038 & 0.237 & 25600.3 & 3092.17 & 0.0 & 3092.17 & $\\dots$ \\\\\n",
       "\t21 &  & accelerating & 400.0 & 16.839 & 37.236 & 0.235 & 25447.1 & 3132.07 & 0.0 & 3132.07 & $\\dots$ \\\\\n",
       "\t22 &  & accelerating & 420.0 & 17.115 & 38.414 & 0.233 & 25297.7 & 3171.49 & 0.0 & 3171.49 & $\\dots$ \\\\\n",
       "\t23 &  & accelerating & 440.0 & 17.385 & 39.574 & 0.231 & 25152.0 & 3210.46 & 0.0 & 3210.46 & $\\dots$ \\\\\n",
       "\t24 &  & accelerating & 460.0 & 17.649 & 40.715 & 0.23 & 25116.8 & 3248.99 & 0.0 & 3248.99 & $\\dots$ \\\\\n",
       "\t25 &  & accelerating & 480.0 & 17.908 & 41.84 & 0.228 & 24962.3 & 3287.28 & 0.0 & 3287.28 & $\\dots$ \\\\\n",
       "\t26 &  & accelerating & 500.0 & 18.161 & 42.949 & 0.224 & 24616.3 & 3325.14 & 0.0 & 3325.14 & $\\dots$ \\\\\n",
       "\t27 &  & accelerating & 520.0 & 18.406 & 44.043 & 0.22 & 24286.2 & 3362.22 & 0.0 & 3362.22 & $\\dots$ \\\\\n",
       "\t28 &  & accelerating & 540.0 & 18.643 & 45.123 & 0.217 & 23978.2 & 3398.58 & 0.0 & 3398.58 & $\\dots$ \\\\\n",
       "\t29 &  & accelerating & 560.0 & 18.874 & 46.189 & 0.213 & 23679.0 & 3434.26 & 0.0 & 3434.26 & $\\dots$ \\\\\n",
       "\t30 &  & accelerating & 580.0 & 19.099 & 47.242 & 0.21 & 23403.3 & 3469.28 & 0.0 & 3469.28 & $\\dots$ \\\\\n",
       "\t$\\dots$ & $\\dots$ & $\\dots$ & $\\dots$ & $\\dots$ & $\\dots$ & $\\dots$ & $\\dots$ & $\\dots$ & $\\dots$ & $\\dots$ &  \\\\\n",
       "\\end{tabular}\n"
      ],
      "text/plain": [
       "\u001b[1m295×11 DataFrame\u001b[0m\n",
       "\u001b[1m Row \u001b[0m│\u001b[1m label  \u001b[0m\u001b[1m driving_mode \u001b[0m\u001b[1m s        \u001b[0m\u001b[1m v      \u001b[0m\u001b[1m t       \u001b[0m\u001b[1m a      \u001b[0m\u001b[1m F_T     \u001b[0m\u001b[1m F_R  \u001b[0m ⋯\n",
       "\u001b[1m     \u001b[0m│\u001b[90m String \u001b[0m\u001b[90m String       \u001b[0m\u001b[90m Real     \u001b[0m\u001b[90m Real   \u001b[0m\u001b[90m Real    \u001b[0m\u001b[90m Real   \u001b[0m\u001b[90m Real    \u001b[0m\u001b[90m Real \u001b[0m ⋯\n",
       "─────┼──────────────────────────────────────────────────────────────────────────\n",
       "   1 │         breakFree         0.0    0.0      0.0     0.975  94400.0  1703. ⋯\n",
       "   2 │         accelerating     20.0    6.246    6.404   0.575  56681.3  2010.\n",
       "   3 │         accelerating     40.0    7.875    9.237   0.459  45712.2  2133.\n",
       "   4 │         accelerating     60.0    8.965   11.612   0.384  38677.3  2226.\n",
       "   5 │         accelerating     80.0    9.783   13.745   0.359  36379.5  2300. ⋯\n",
       "   6 │         accelerating    100.0   10.49    15.718   0.35   35600.0  2368.\n",
       "   7 │         accelerating    120.0   11.137   17.568   0.349  35600.0  2434.\n",
       "   8 │         accelerating    140.0   11.747   19.316   0.348  35585.5  2498.\n",
       "   9 │         accelerating    160.0   12.326   20.978   0.343  35179.6  2561. ⋯\n",
       "  10 │         accelerating    180.0   12.87    22.565   0.336  34586.6  2623.\n",
       "  11 │         accelerating    200.0   13.383   24.089   0.324  33438.9  2682.\n",
       "  ⋮  │   ⋮          ⋮           ⋮        ⋮        ⋮       ⋮        ⋮        ⋮  ⋱\n",
       " 286 │         braking        9833.73  11.892  363.654  -0.425      0.0  2514.\n",
       " 287 │         braking        9853.73  11.154  365.389  -0.425      0.0  2436. ⋯\n",
       " 288 │         braking        9873.73  10.364  367.248  -0.425      0.0  2356.\n",
       " 289 │         braking        9893.73   9.507  369.261  -0.425      0.0  2275.\n",
       " 290 │         braking        9913.73   8.566  371.474  -0.425      0.0  2191.\n",
       " 291 │         braking        9933.73   7.508  373.963  -0.425      0.0  2104. ⋯\n",
       " 292 │         braking        9953.73   6.273  376.865  -0.425      0.0  2012.\n",
       " 293 │         braking        9973.73   4.727  380.502  -0.425      0.0  1911.\n",
       " 294 │         braking        9993.73   2.309  386.187  -0.425      0.0  1786.\n",
       " 295 │         halt          10000.0    0.0    391.616   0.0        0.0  1703. ⋯\n",
       "\u001b[36m                                                  4 columns and 274 rows omitted\u001b[0m"
      ]
     },
     "execution_count": 30,
     "metadata": {},
     "output_type": "execute_result"
    }
   ],
   "source": [
    "run = trainrun(passenger_train, block_sections, settings_all)"
   ]
  },
  {
   "cell_type": "markdown",
   "id": "946fd592",
   "metadata": {},
   "source": [
    "We now need to create a canvas to get a plot. The package _Makie_ provides the canvas. Please refer to its [documentation](https://docs.juliahub.com/MakieGallery/) for how it works and is to be used. The following code will produce a figure with two but still empty diagrams. A distance-speed-diagram (sv\\_diagram) on top and a distance-time-diagram (st\\_diagram) below:"
   ]
  },
  {
   "cell_type": "code",
   "execution_count": 31,
   "id": "2cfd2c67",
   "metadata": {},
   "outputs": [],
   "source": [
    "# new but empty figure\n",
    "fig = Figure()\n",
    "#  adding distance speed axis to the figure\n",
    "sv_diagram = Axis(fig[1,1],\n",
    "    # title = \"s-v-diagram\",\n",
    "    xlabel = \"distance in km\",\n",
    "    xaxisposition =  :top,\n",
    "    xticks = 0:2:run.s[end]/1000,\n",
    "    xticksmirrored = true,\n",
    "    ylabel = \"speed in km/h\",\n",
    "    ytickformat = \"{:.1f}\",\n",
    "    yticks = 0:20:maximum(run.v)*3.6+20,\n",
    "    yticksmirrored = true\n",
    ")\n",
    "# adding distance time axis to the figure\n",
    "st_diagram = Axis(fig[2:4,1],\n",
    "    # title = \"s-t-diagram\",\n",
    "    xlabel = \"distance in km\",\n",
    "    xaxisposition =  :bottom,\n",
    "    xticks = 0:2:run.s[end]/1000,\n",
    "    xticksmirrored = true,\n",
    "    ylabel = \"time in min\",\n",
    "    ytickformat = \"{:.1f}\",\n",
    "    yticksmirrored = true,\n",
    "    yreversed = true\n",
    ")\n",
    "linkxaxes!(sv_diagram, st_diagram)"
   ]
  },
  {
   "cell_type": "markdown",
   "id": "6612483b",
   "metadata": {},
   "source": [
    "We now can add our data from run converted in the right dimensions to both diagrams:"
   ]
  },
  {
   "cell_type": "code",
   "execution_count": 32,
   "id": "7c70a352",
   "metadata": {},
   "outputs": [
    {
     "data": {
      "text/plain": [
       "Lines{Tuple{Vector{Point{2, Float32}}}}"
      ]
     },
     "execution_count": 32,
     "metadata": {},
     "output_type": "execute_result"
    }
   ],
   "source": [
    "lines!(sv_diagram, run.s./1000, run.v.*3.6, color = :blue)\n",
    "lines!(st_diagram, run.s./1000, run.t./60, color = :blue)"
   ]
  },
  {
   "cell_type": "markdown",
   "id": "ba5987ac",
   "metadata": {},
   "source": [
    "We must recall our figure variable to show the figure:"
   ]
  },
  {
   "cell_type": "code",
   "execution_count": 33,
   "id": "cc2947da",
   "metadata": {},
   "outputs": [
    {
     "data": {
      "image/png": "[encoded data removed]",
      "text/plain": [
       "Figure()"
      ]
     },
     "execution_count": 33,
     "metadata": {},
     "output_type": "execute_result"
    }
   ],
   "source": [
    "fig"
   ]
  },
  {
   "cell_type": "markdown",
   "id": "b102f394",
   "metadata": {},
   "source": [
    "We need rectangles to add blocking times. Graphical rectangles are provided by:"
   ]
  },
  {
   "cell_type": "code",
   "execution_count": 34,
   "id": "cbf6d882",
   "metadata": {},
   "outputs": [],
   "source": [
    "using Makie.GeometryBasics"
   ]
  },
  {
   "cell_type": "markdown",
   "id": "b1f37a32",
   "metadata": {},
   "source": [
    "Now, we can draw a rectangle with the origin at (s,t) and a width/height as a vector (+s,+t):\n",
    "```Julia\n",
    "Rect(s,t,+s,+t)\n",
    "```\n",
    "\n",
    "The following commands will create geometric rectangles for both blocks (A and B):"
   ]
  },
  {
   "cell_type": "code",
   "execution_count": 37,
   "id": "d722b300",
   "metadata": {},
   "outputs": [
    {
     "data": {
      "text/plain": [
       "Rect2{Float64}([4.5, 2.5413], [1.5, 1.37835])"
      ]
     },
     "execution_count": 37,
     "metadata": {},
     "output_type": "execute_result"
    }
   ],
   "source": [
    "block_A = Rect(\n",
    "    ingress_block_A/1000, start_block_A/60, # origin\n",
    "    block_length_A/1000, blocking_time_A/60 # width and height\n",
    ")\n",
    "block_B = Rect(\n",
    "    ingress_block_B/1000, start_block_B/60,\n",
    "    block_length_B/1000, blocking_time_B/60\n",
    ")"
   ]
  },
  {
   "cell_type": "markdown",
   "id": "a8ddbd21",
   "metadata": {},
   "source": [
    "We now can add the rectangles to plot and update the figure:"
   ]
  },
  {
   "cell_type": "code",
   "execution_count": 38,
   "id": "93654ae2",
   "metadata": {},
   "outputs": [
    {
     "data": {
      "text/plain": [
       "Combined{Makie.poly, Tuple{Vector{Rect2{Float64}}}}"
      ]
     },
     "execution_count": 38,
     "metadata": {},
     "output_type": "execute_result"
    }
   ],
   "source": [
    "poly!(st_diagram, [block_A, block_B], color=:transparent, strokecolor = :blue, strokewidth = 1)"
   ]
  },
  {
   "cell_type": "code",
   "execution_count": 39,
   "id": "8f3d4fc4",
   "metadata": {},
   "outputs": [
    {
     "data": {
      "image/png": "[encoded data removed]",
      "text/plain": [
       "Figure()"
      ]
     },
     "execution_count": 39,
     "metadata": {},
     "output_type": "execute_result"
    }
   ],
   "source": [
    "fig # recall the figure for plotting"
   ]
  },
  {
   "cell_type": "markdown",
   "id": "ce90d07c",
   "metadata": {},
   "source": [
    "## Real world example"
   ]
  },
  {
   "cell_type": "markdown",
   "id": "382bb4c4",
   "metadata": {},
   "source": [
    "The following example summarizes the usage with an example of different speed limits and track resistances. For the path, we use the [Görlitz–Dresden railway](https://en.wikipedia.org/wiki/Görlitz–Dresden_railway) and the trains from before.\n",
    "![](https://upload.wikimedia.org/wikipedia/commons/a/a0/Map-of-6212-G%C3%B6rlitz-Dresden.png)"
   ]
  },
  {
   "cell_type": "code",
   "execution_count": 40,
   "id": "f1a5ad75",
   "metadata": {},
   "outputs": [
    {
     "data": {
      "text/plain": [
       "Path(\"'infra_Ostsachsen': track id='tr_80.6212_2' name='DG-DN' -> spp_5\", \"realworld\", UUID(\"2b31a0c5-85bc-4721-b7e0-66f9df95f7b6\"), Any[], Any[Dict(:s_end => 318.0, :v_limit => 11.11111111111111, :f_Rp => 0.0, :s_start => 0.0), Dict(:s_end => 399.0, :v_limit => 11.11111111111111, :f_Rp => 2.0, :s_start => 318.0), Dict(:s_end => 500.0, :v_limit => 11.11111111111111, :f_Rp => -3.0, :s_start => 399.0), Dict(:s_end => 579.0, :v_limit => 11.11111111111111, :f_Rp => 0.0, :s_start => 500.0), Dict(:s_end => 784.0, :v_limit => 11.11111111111111, :f_Rp => 1.0, :s_start => 579.0), Dict(:s_end => 868.0, :v_limit => 11.11111111111111, :f_Rp => 5.3, :s_start => 784.0), Dict(:s_end => 1082.0, :v_limit => 11.11111111111111, :f_Rp => 20.0, :s_start => 868.0), Dict(:s_end => 1287.0, :v_limit => 11.11111111111111, :f_Rp => 16.1, :s_start => 1082.0), Dict(:s_end => 1800.0, :v_limit => 11.11111111111111, :f_Rp => 18.1, :s_start => 1287.0), Dict(:s_end => 2242.0, :v_limit => 30.555555555555554, :f_Rp => 18.1, :s_start => 1800.0)  …  Dict(:s_end => 99980.0, :v_limit => 33.333333333333336, :f_Rp => -3.1, :s_start => 99906.0), Dict(:s_end => 100190.0, :v_limit => 33.333333333333336, :f_Rp => -1.3, :s_start => 99980.0), Dict(:s_end => 100832.0, :v_limit => 33.333333333333336, :f_Rp => -6.8, :s_start => 100190.0), Dict(:s_end => 100980.0, :v_limit => 33.333333333333336, :f_Rp => -7.2, :s_start => 100832.0), Dict(:s_end => 101100.0, :v_limit => 33.333333333333336, :f_Rp => -8.1, :s_start => 100980.0), Dict(:s_end => 101245.0, :v_limit => 33.333333333333336, :f_Rp => -7.4, :s_start => 101100.0), Dict(:s_end => 101332.0, :v_limit => 33.333333333333336, :f_Rp => -6.3, :s_start => 101245.0), Dict(:s_end => 101365.0, :v_limit => 27.77777777777778, :f_Rp => -6.3, :s_start => 101332.0), Dict(:s_end => 101551.0, :v_limit => 27.77777777777778, :f_Rp => -2.4, :s_start => 101365.0), Dict(:s_end => 101800.0, :v_limit => 30.555555555555554, :f_Rp => -2.4, :s_start => 101551.0)])"
      ]
     },
     "execution_count": 40,
     "metadata": {},
     "output_type": "execute_result"
    }
   ],
   "source": [
    "realworld_path = Path(\"data/realworld_path.yaml\")"
   ]
  },
  {
   "cell_type": "code",
   "execution_count": 41,
   "id": "a8324fa0",
   "metadata": {},
   "outputs": [
    {
     "data": {
      "text/html": [
       "<div class=\"data-frame\"><p>2,018 rows × 11 columns (omitted printing of 2 columns)</p><table class=\"data-frame\"><thead><tr><th></th><th>label</th><th>driving_mode</th><th>s</th><th>v</th><th>t</th><th>a</th><th>F_T</th><th>F_R</th><th>R_path</th></tr><tr><th></th><th title=\"String\">String</th><th title=\"String\">String</th><th title=\"Real\">Real</th><th title=\"Real\">Real</th><th title=\"Real\">Real</th><th title=\"Real\">Real</th><th title=\"Real\">Real</th><th title=\"Real\">Real</th><th title=\"Real\">Real</th></tr></thead><tbody><tr><th>1</th><td></td><td>breakFree</td><td>0.0</td><td>0.0</td><td>0.0</td><td>0.975</td><td>94400.0</td><td>1703.41</td><td>0.0</td></tr><tr><th>2</th><td></td><td>accelerating</td><td>20.0</td><td>6.246</td><td>6.404</td><td>0.575</td><td>56681.3</td><td>2010.35</td><td>0.0</td></tr><tr><th>3</th><td></td><td>accelerating</td><td>40.0</td><td>7.875</td><td>9.237</td><td>0.459</td><td>45712.2</td><td>2133.67</td><td>0.0</td></tr><tr><th>4</th><td></td><td>accelerating</td><td>60.0</td><td>8.965</td><td>11.612</td><td>0.384</td><td>38677.3</td><td>2226.08</td><td>0.0</td></tr><tr><th>5</th><td></td><td>accelerating</td><td>80.0</td><td>9.783</td><td>13.745</td><td>0.359</td><td>36379.5</td><td>2300.78</td><td>0.0</td></tr><tr><th>6</th><td></td><td>accelerating</td><td>100.0</td><td>10.49</td><td>15.718</td><td>0.35</td><td>35600.0</td><td>2368.99</td><td>0.0</td></tr><tr><th>7</th><td></td><td>accelerating</td><td>102.0</td><td>10.557</td><td>15.909</td><td>0.35</td><td>35600.0</td><td>2375.57</td><td>0.0</td></tr><tr><th>8</th><td></td><td>accelerating</td><td>104.0</td><td>10.623</td><td>16.097</td><td>0.35</td><td>35600.0</td><td>2382.14</td><td>0.0</td></tr><tr><th>9</th><td></td><td>accelerating</td><td>106.0</td><td>10.688</td><td>16.285</td><td>0.349</td><td>35600.0</td><td>2388.69</td><td>0.0</td></tr><tr><th>10</th><td></td><td>accelerating</td><td>108.0</td><td>10.754</td><td>16.472</td><td>0.349</td><td>35600.0</td><td>2395.24</td><td>0.0</td></tr><tr><th>11</th><td></td><td>accelerating</td><td>110.0</td><td>10.818</td><td>16.657</td><td>0.349</td><td>35600.0</td><td>2401.76</td><td>0.0</td></tr><tr><th>12</th><td></td><td>accelerating</td><td>112.0</td><td>10.883</td><td>16.841</td><td>0.349</td><td>35600.0</td><td>2408.28</td><td>0.0</td></tr><tr><th>13</th><td></td><td>accelerating</td><td>114.0</td><td>10.947</td><td>17.025</td><td>0.349</td><td>35600.0</td><td>2414.79</td><td>0.0</td></tr><tr><th>14</th><td></td><td>accelerating</td><td>116.0</td><td>11.01</td><td>17.207</td><td>0.349</td><td>35600.0</td><td>2421.28</td><td>0.0</td></tr><tr><th>15</th><td></td><td>accelerating</td><td>118.0</td><td>11.074</td><td>17.388</td><td>0.349</td><td>35600.0</td><td>2427.77</td><td>0.0</td></tr><tr><th>16</th><td></td><td>accelerating</td><td>118.2</td><td>11.08</td><td>17.406</td><td>0.349</td><td>35600.0</td><td>2428.41</td><td>0.0</td></tr><tr><th>17</th><td></td><td>accelerating</td><td>118.4</td><td>11.086</td><td>17.424</td><td>0.349</td><td>35600.0</td><td>2429.06</td><td>0.0</td></tr><tr><th>18</th><td></td><td>accelerating</td><td>118.6</td><td>11.093</td><td>17.442</td><td>0.349</td><td>35600.0</td><td>2429.71</td><td>0.0</td></tr><tr><th>19</th><td></td><td>accelerating</td><td>118.8</td><td>11.099</td><td>17.46</td><td>0.349</td><td>35600.0</td><td>2430.36</td><td>0.0</td></tr><tr><th>20</th><td></td><td>accelerating</td><td>119.0</td><td>11.105</td><td>17.478</td><td>0.349</td><td>35600.0</td><td>2431.0</td><td>0.0</td></tr><tr><th>21</th><td></td><td>accelerating</td><td>119.02</td><td>11.106</td><td>17.48</td><td>0.349</td><td>35600.0</td><td>2431.07</td><td>0.0</td></tr><tr><th>22</th><td></td><td>accelerating</td><td>119.04</td><td>11.106</td><td>17.482</td><td>0.349</td><td>35600.0</td><td>2431.13</td><td>0.0</td></tr><tr><th>23</th><td></td><td>accelerating</td><td>119.06</td><td>11.107</td><td>17.483</td><td>0.349</td><td>35600.0</td><td>2431.2</td><td>0.0</td></tr><tr><th>24</th><td></td><td>accelerating</td><td>119.08</td><td>11.108</td><td>17.485</td><td>0.349</td><td>35600.0</td><td>2431.26</td><td>0.0</td></tr><tr><th>25</th><td></td><td>accelerating</td><td>119.1</td><td>11.108</td><td>17.487</td><td>0.349</td><td>35600.0</td><td>2431.33</td><td>0.0</td></tr><tr><th>26</th><td></td><td>accelerating</td><td>119.12</td><td>11.109</td><td>17.489</td><td>0.349</td><td>35600.0</td><td>2431.39</td><td>0.0</td></tr><tr><th>27</th><td></td><td>accelerating</td><td>119.14</td><td>11.11</td><td>17.491</td><td>0.349</td><td>35600.0</td><td>2431.45</td><td>0.0</td></tr><tr><th>28</th><td></td><td>accelerating</td><td>119.16</td><td>11.11</td><td>17.492</td><td>0.349</td><td>35600.0</td><td>2431.52</td><td>0.0</td></tr><tr><th>29</th><td></td><td>cruising</td><td>119.18</td><td>11.111</td><td>17.494</td><td>0.0</td><td>2431.59</td><td>2431.59</td><td>0.0</td></tr><tr><th>30</th><td></td><td>cruising</td><td>318.0</td><td>11.111</td><td>35.389</td><td>0.0</td><td>4157.56</td><td>4157.56</td><td>1725.97</td></tr><tr><th>&vellip;</th><td>&vellip;</td><td>&vellip;</td><td>&vellip;</td><td>&vellip;</td><td>&vellip;</td><td>&vellip;</td><td>&vellip;</td><td>&vellip;</td><td>&vellip;</td></tr></tbody></table></div>"
      ],
      "text/latex": [
       "\\begin{tabular}{r|cccccccccc}\n",
       "\t& label & driving\\_mode & s & v & t & a & F\\_T & F\\_R & R\\_path & \\\\\n",
       "\t\\hline\n",
       "\t& String & String & Real & Real & Real & Real & Real & Real & Real & \\\\\n",
       "\t\\hline\n",
       "\t1 &  & breakFree & 0.0 & 0.0 & 0.0 & 0.975 & 94400.0 & 1703.41 & 0.0 & $\\dots$ \\\\\n",
       "\t2 &  & accelerating & 20.0 & 6.246 & 6.404 & 0.575 & 56681.3 & 2010.35 & 0.0 & $\\dots$ \\\\\n",
       "\t3 &  & accelerating & 40.0 & 7.875 & 9.237 & 0.459 & 45712.2 & 2133.67 & 0.0 & $\\dots$ \\\\\n",
       "\t4 &  & accelerating & 60.0 & 8.965 & 11.612 & 0.384 & 38677.3 & 2226.08 & 0.0 & $\\dots$ \\\\\n",
       "\t5 &  & accelerating & 80.0 & 9.783 & 13.745 & 0.359 & 36379.5 & 2300.78 & 0.0 & $\\dots$ \\\\\n",
       "\t6 &  & accelerating & 100.0 & 10.49 & 15.718 & 0.35 & 35600.0 & 2368.99 & 0.0 & $\\dots$ \\\\\n",
       "\t7 &  & accelerating & 102.0 & 10.557 & 15.909 & 0.35 & 35600.0 & 2375.57 & 0.0 & $\\dots$ \\\\\n",
       "\t8 &  & accelerating & 104.0 & 10.623 & 16.097 & 0.35 & 35600.0 & 2382.14 & 0.0 & $\\dots$ \\\\\n",
       "\t9 &  & accelerating & 106.0 & 10.688 & 16.285 & 0.349 & 35600.0 & 2388.69 & 0.0 & $\\dots$ \\\\\n",
       "\t10 &  & accelerating & 108.0 & 10.754 & 16.472 & 0.349 & 35600.0 & 2395.24 & 0.0 & $\\dots$ \\\\\n",
       "\t11 &  & accelerating & 110.0 & 10.818 & 16.657 & 0.349 & 35600.0 & 2401.76 & 0.0 & $\\dots$ \\\\\n",
       "\t12 &  & accelerating & 112.0 & 10.883 & 16.841 & 0.349 & 35600.0 & 2408.28 & 0.0 & $\\dots$ \\\\\n",
       "\t13 &  & accelerating & 114.0 & 10.947 & 17.025 & 0.349 & 35600.0 & 2414.79 & 0.0 & $\\dots$ \\\\\n",
       "\t14 &  & accelerating & 116.0 & 11.01 & 17.207 & 0.349 & 35600.0 & 2421.28 & 0.0 & $\\dots$ \\\\\n",
       "\t15 &  & accelerating & 118.0 & 11.074 & 17.388 & 0.349 & 35600.0 & 2427.77 & 0.0 & $\\dots$ \\\\\n",
       "\t16 &  & accelerating & 118.2 & 11.08 & 17.406 & 0.349 & 35600.0 & 2428.41 & 0.0 & $\\dots$ \\\\\n",
       "\t17 &  & accelerating & 118.4 & 11.086 & 17.424 & 0.349 & 35600.0 & 2429.06 & 0.0 & $\\dots$ \\\\\n",
       "\t18 &  & accelerating & 118.6 & 11.093 & 17.442 & 0.349 & 35600.0 & 2429.71 & 0.0 & $\\dots$ \\\\\n",
       "\t19 &  & accelerating & 118.8 & 11.099 & 17.46 & 0.349 & 35600.0 & 2430.36 & 0.0 & $\\dots$ \\\\\n",
       "\t20 &  & accelerating & 119.0 & 11.105 & 17.478 & 0.349 & 35600.0 & 2431.0 & 0.0 & $\\dots$ \\\\\n",
       "\t21 &  & accelerating & 119.02 & 11.106 & 17.48 & 0.349 & 35600.0 & 2431.07 & 0.0 & $\\dots$ \\\\\n",
       "\t22 &  & accelerating & 119.04 & 11.106 & 17.482 & 0.349 & 35600.0 & 2431.13 & 0.0 & $\\dots$ \\\\\n",
       "\t23 &  & accelerating & 119.06 & 11.107 & 17.483 & 0.349 & 35600.0 & 2431.2 & 0.0 & $\\dots$ \\\\\n",
       "\t24 &  & accelerating & 119.08 & 11.108 & 17.485 & 0.349 & 35600.0 & 2431.26 & 0.0 & $\\dots$ \\\\\n",
       "\t25 &  & accelerating & 119.1 & 11.108 & 17.487 & 0.349 & 35600.0 & 2431.33 & 0.0 & $\\dots$ \\\\\n",
       "\t26 &  & accelerating & 119.12 & 11.109 & 17.489 & 0.349 & 35600.0 & 2431.39 & 0.0 & $\\dots$ \\\\\n",
       "\t27 &  & accelerating & 119.14 & 11.11 & 17.491 & 0.349 & 35600.0 & 2431.45 & 0.0 & $\\dots$ \\\\\n",
       "\t28 &  & accelerating & 119.16 & 11.11 & 17.492 & 0.349 & 35600.0 & 2431.52 & 0.0 & $\\dots$ \\\\\n",
       "\t29 &  & cruising & 119.18 & 11.111 & 17.494 & 0.0 & 2431.59 & 2431.59 & 0.0 & $\\dots$ \\\\\n",
       "\t30 &  & cruising & 318.0 & 11.111 & 35.389 & 0.0 & 4157.56 & 4157.56 & 1725.97 & $\\dots$ \\\\\n",
       "\t$\\dots$ & $\\dots$ & $\\dots$ & $\\dots$ & $\\dots$ & $\\dots$ & $\\dots$ & $\\dots$ & $\\dots$ & $\\dots$ &  \\\\\n",
       "\\end{tabular}\n"
      ],
      "text/plain": [
       "\u001b[1m2018×11 DataFrame\u001b[0m\n",
       "\u001b[1m  Row \u001b[0m│\u001b[1m label  \u001b[0m\u001b[1m driving_mode \u001b[0m\u001b[1m s        \u001b[0m\u001b[1m v      \u001b[0m\u001b[1m t        \u001b[0m\u001b[1m a      \u001b[0m\u001b[1m F_T     \u001b[0m\u001b[1m F_R\u001b[0m ⋯\n",
       "\u001b[1m      \u001b[0m│\u001b[90m String \u001b[0m\u001b[90m String       \u001b[0m\u001b[90m Real     \u001b[0m\u001b[90m Real   \u001b[0m\u001b[90m Real     \u001b[0m\u001b[90m Real   \u001b[0m\u001b[90m Real    \u001b[0m\u001b[90m Rea\u001b[0m ⋯\n",
       "──────┼─────────────────────────────────────────────────────────────────────────\n",
       "    1 │         breakFree          0.0   0.0       0.0     0.975  94400.0  170 ⋯\n",
       "    2 │         accelerating      20.0   6.246     6.404   0.575  56681.3  201\n",
       "    3 │         accelerating      40.0   7.875     9.237   0.459  45712.2  213\n",
       "    4 │         accelerating      60.0   8.965    11.612   0.384  38677.3  222\n",
       "    5 │         accelerating      80.0   9.783    13.745   0.359  36379.5  230 ⋯\n",
       "    6 │         accelerating     100.0  10.49     15.718   0.35   35600.0  236\n",
       "    7 │         accelerating     102.0  10.557    15.909   0.35   35600.0  237\n",
       "    8 │         accelerating     104.0  10.623    16.097   0.35   35600.0  238\n",
       "    9 │         accelerating     106.0  10.688    16.285   0.349  35600.0  238 ⋯\n",
       "   10 │         accelerating     108.0  10.754    16.472   0.349  35600.0  239\n",
       "   11 │         accelerating     110.0  10.818    16.657   0.349  35600.0  240\n",
       "  ⋮   │   ⋮          ⋮           ⋮        ⋮        ⋮        ⋮        ⋮         ⋱\n",
       " 2009 │         braking       101631.0  11.989  3409.33   -0.425      0.0   45\n",
       " 2010 │         braking       101651.0  11.258  3411.05   -0.425      0.0   37 ⋯\n",
       " 2011 │         braking       101671.0  10.475  3412.89   -0.425      0.0   29\n",
       " 2012 │         braking       101691.0   9.628  3414.88   -0.425      0.0   21\n",
       " 2013 │         braking       101711.0   8.7    3417.07   -0.425      0.0   13\n",
       " 2014 │         braking       101731.0   7.661  3419.51   -0.425      0.0    4 ⋯\n",
       " 2015 │         braking       101751.0   6.455  3422.34   -0.425      0.0   -4\n",
       " 2016 │         braking       101771.0   4.966  3425.85   -0.425      0.0  -14\n",
       " 2017 │         braking       101791.0   2.765  3431.02   -0.425      0.0  -26\n",
       " 2018 │         halt          101800.0   0.0    3437.53    0.0        0.0  -36 ⋯\n",
       "\u001b[36m                                                 4 columns and 1997 rows omitted\u001b[0m"
      ]
     },
     "execution_count": 41,
     "metadata": {},
     "output_type": "execute_result"
    }
   ],
   "source": [
    "run_realworld_passenger = trainrun(passenger_train, realworld_path, settings_all)"
   ]
  },
  {
   "cell_type": "code",
   "execution_count": 42,
   "id": "ecbd4bc4",
   "metadata": {},
   "outputs": [
    {
     "data": {
      "text/html": [
       "<div class=\"data-frame\"><p>4,370 rows × 11 columns (omitted printing of 2 columns)</p><table class=\"data-frame\"><thead><tr><th></th><th>label</th><th>driving_mode</th><th>s</th><th>v</th><th>t</th><th>a</th><th>F_T</th><th>F_R</th><th>R_path</th></tr><tr><th></th><th title=\"String\">String</th><th title=\"String\">String</th><th title=\"Real\">Real</th><th title=\"Real\">Real</th><th title=\"Real\">Real</th><th title=\"Real\">Real</th><th title=\"Real\">Real</th><th title=\"Real\">Real</th><th title=\"Real\">Real</th></tr></thead><tbody><tr><th>1</th><td></td><td>breakFree</td><td>0.0</td><td>0.0</td><td>0.0</td><td>0.181</td><td>186940.0</td><td>13258.8</td><td>0.0</td></tr><tr><th>2</th><td></td><td>accelerating</td><td>20.0</td><td>2.689</td><td>14.877</td><td>0.138</td><td>1.45761e5</td><td>13560.1</td><td>0.0</td></tr><tr><th>3</th><td></td><td>accelerating</td><td>40.0</td><td>3.568</td><td>21.27</td><td>0.121</td><td>1.30408e5</td><td>13789.3</td><td>0.0</td></tr><tr><th>4</th><td></td><td>accelerating</td><td>60.0</td><td>4.194</td><td>26.423</td><td>0.111</td><td>1.20455e5</td><td>13991.5</td><td>0.0</td></tr><tr><th>5</th><td></td><td>accelerating</td><td>80.0</td><td>4.692</td><td>30.925</td><td>0.103</td><td>113093.0</td><td>14176.1</td><td>0.0</td></tr><tr><th>6</th><td></td><td>accelerating</td><td>100.0</td><td>5.112</td><td>35.004</td><td>0.097</td><td>1.07291e5</td><td>14347.6</td><td>0.0</td></tr><tr><th>7</th><td></td><td>accelerating</td><td>120.0</td><td>5.478</td><td>38.782</td><td>0.092</td><td>1.02527e5</td><td>14508.8</td><td>0.0</td></tr><tr><th>8</th><td></td><td>accelerating</td><td>140.0</td><td>5.802</td><td>42.328</td><td>0.087</td><td>98500.3</td><td>14661.4</td><td>0.0</td></tr><tr><th>9</th><td></td><td>accelerating</td><td>160.0</td><td>6.096</td><td>45.69</td><td>0.083</td><td>95022.5</td><td>14806.7</td><td>0.0</td></tr><tr><th>10</th><td></td><td>accelerating</td><td>180.0</td><td>6.364</td><td>48.9</td><td>0.08</td><td>91985.4</td><td>14945.8</td><td>0.0</td></tr><tr><th>11</th><td></td><td>accelerating</td><td>200.0</td><td>6.611</td><td>51.983</td><td>0.077</td><td>89303.4</td><td>15079.4</td><td>0.0</td></tr><tr><th>12</th><td></td><td>accelerating</td><td>220.0</td><td>6.84</td><td>54.957</td><td>0.075</td><td>86910.4</td><td>15208.1</td><td>0.0</td></tr><tr><th>13</th><td></td><td>accelerating</td><td>240.0</td><td>7.055</td><td>57.835</td><td>0.072</td><td>84750.9</td><td>15332.4</td><td>0.0</td></tr><tr><th>14</th><td></td><td>accelerating</td><td>260.0</td><td>7.257</td><td>60.63</td><td>0.07</td><td>82784.3</td><td>15452.7</td><td>0.0</td></tr><tr><th>15</th><td></td><td>accelerating</td><td>280.0</td><td>7.448</td><td>63.35</td><td>0.068</td><td>81007.3</td><td>15569.5</td><td>0.0</td></tr><tr><th>16</th><td></td><td>accelerating</td><td>300.0</td><td>7.628</td><td>66.004</td><td>0.066</td><td>79387.4</td><td>15682.9</td><td>0.0</td></tr><tr><th>17</th><td></td><td>accelerating</td><td>318.0</td><td>7.783</td><td>68.339</td><td>0.046</td><td>78024.2</td><td>33826.6</td><td>18044.2</td></tr><tr><th>18</th><td></td><td>accelerating</td><td>338.0</td><td>7.901</td><td>70.89</td><td>0.045</td><td>77044.6</td><td>33903.2</td><td>18044.2</td></tr><tr><th>19</th><td></td><td>accelerating</td><td>358.0</td><td>8.013</td><td>73.403</td><td>0.044</td><td>76102.1</td><td>33978.0</td><td>18044.2</td></tr><tr><th>20</th><td></td><td>accelerating</td><td>378.0</td><td>8.122</td><td>75.882</td><td>0.043</td><td>75230.5</td><td>34051.0</td><td>18044.2</td></tr><tr><th>21</th><td></td><td>accelerating</td><td>398.0</td><td>8.227</td><td>78.329</td><td>0.042</td><td>74411.4</td><td>34122.4</td><td>18044.2</td></tr><tr><th>22</th><td></td><td>accelerating</td><td>399.0</td><td>8.232</td><td>78.451</td><td>0.089</td><td>74371.6</td><td>-10984.7</td><td>-27066.4</td></tr><tr><th>23</th><td></td><td>accelerating</td><td>419.0</td><td>8.445</td><td>80.849</td><td>0.087</td><td>72783.8</td><td>-10836.7</td><td>-27066.4</td></tr><tr><th>24</th><td></td><td>accelerating</td><td>439.0</td><td>8.649</td><td>83.189</td><td>0.085</td><td>71337.8</td><td>-10691.7</td><td>-27066.4</td></tr><tr><th>25</th><td></td><td>accelerating</td><td>459.0</td><td>8.844</td><td>85.476</td><td>0.084</td><td>69974.5</td><td>-10549.5</td><td>-27066.4</td></tr><tr><th>26</th><td></td><td>accelerating</td><td>479.0</td><td>9.031</td><td>87.714</td><td>0.082</td><td>68690.6</td><td>-10409.9</td><td>-27066.4</td></tr><tr><th>27</th><td></td><td>accelerating</td><td>499.0</td><td>9.212</td><td>89.906</td><td>0.081</td><td>67470.8</td><td>-10272.8</td><td>-27066.4</td></tr><tr><th>28</th><td></td><td>accelerating</td><td>500.0</td><td>9.221</td><td>90.015</td><td>0.053</td><td>67412.6</td><td>16800.3</td><td>0.0</td></tr><tr><th>29</th><td></td><td>accelerating</td><td>520.0</td><td>9.334</td><td>92.17</td><td>0.052</td><td>66660.6</td><td>16888.0</td><td>0.0</td></tr><tr><th>30</th><td></td><td>accelerating</td><td>540.0</td><td>9.444</td><td>94.3</td><td>0.051</td><td>65929.8</td><td>16974.3</td><td>0.0</td></tr><tr><th>&vellip;</th><td>&vellip;</td><td>&vellip;</td><td>&vellip;</td><td>&vellip;</td><td>&vellip;</td><td>&vellip;</td><td>&vellip;</td><td>&vellip;</td><td>&vellip;</td></tr></tbody></table></div>"
      ],
      "text/latex": [
       "\\begin{tabular}{r|cccccccccc}\n",
       "\t& label & driving\\_mode & s & v & t & a & F\\_T & F\\_R & R\\_path & \\\\\n",
       "\t\\hline\n",
       "\t& String & String & Real & Real & Real & Real & Real & Real & Real & \\\\\n",
       "\t\\hline\n",
       "\t1 &  & breakFree & 0.0 & 0.0 & 0.0 & 0.181 & 186940.0 & 13258.8 & 0.0 & $\\dots$ \\\\\n",
       "\t2 &  & accelerating & 20.0 & 2.689 & 14.877 & 0.138 & 1.45761e5 & 13560.1 & 0.0 & $\\dots$ \\\\\n",
       "\t3 &  & accelerating & 40.0 & 3.568 & 21.27 & 0.121 & 1.30408e5 & 13789.3 & 0.0 & $\\dots$ \\\\\n",
       "\t4 &  & accelerating & 60.0 & 4.194 & 26.423 & 0.111 & 1.20455e5 & 13991.5 & 0.0 & $\\dots$ \\\\\n",
       "\t5 &  & accelerating & 80.0 & 4.692 & 30.925 & 0.103 & 113093.0 & 14176.1 & 0.0 & $\\dots$ \\\\\n",
       "\t6 &  & accelerating & 100.0 & 5.112 & 35.004 & 0.097 & 1.07291e5 & 14347.6 & 0.0 & $\\dots$ \\\\\n",
       "\t7 &  & accelerating & 120.0 & 5.478 & 38.782 & 0.092 & 1.02527e5 & 14508.8 & 0.0 & $\\dots$ \\\\\n",
       "\t8 &  & accelerating & 140.0 & 5.802 & 42.328 & 0.087 & 98500.3 & 14661.4 & 0.0 & $\\dots$ \\\\\n",
       "\t9 &  & accelerating & 160.0 & 6.096 & 45.69 & 0.083 & 95022.5 & 14806.7 & 0.0 & $\\dots$ \\\\\n",
       "\t10 &  & accelerating & 180.0 & 6.364 & 48.9 & 0.08 & 91985.4 & 14945.8 & 0.0 & $\\dots$ \\\\\n",
       "\t11 &  & accelerating & 200.0 & 6.611 & 51.983 & 0.077 & 89303.4 & 15079.4 & 0.0 & $\\dots$ \\\\\n",
       "\t12 &  & accelerating & 220.0 & 6.84 & 54.957 & 0.075 & 86910.4 & 15208.1 & 0.0 & $\\dots$ \\\\\n",
       "\t13 &  & accelerating & 240.0 & 7.055 & 57.835 & 0.072 & 84750.9 & 15332.4 & 0.0 & $\\dots$ \\\\\n",
       "\t14 &  & accelerating & 260.0 & 7.257 & 60.63 & 0.07 & 82784.3 & 15452.7 & 0.0 & $\\dots$ \\\\\n",
       "\t15 &  & accelerating & 280.0 & 7.448 & 63.35 & 0.068 & 81007.3 & 15569.5 & 0.0 & $\\dots$ \\\\\n",
       "\t16 &  & accelerating & 300.0 & 7.628 & 66.004 & 0.066 & 79387.4 & 15682.9 & 0.0 & $\\dots$ \\\\\n",
       "\t17 &  & accelerating & 318.0 & 7.783 & 68.339 & 0.046 & 78024.2 & 33826.6 & 18044.2 & $\\dots$ \\\\\n",
       "\t18 &  & accelerating & 338.0 & 7.901 & 70.89 & 0.045 & 77044.6 & 33903.2 & 18044.2 & $\\dots$ \\\\\n",
       "\t19 &  & accelerating & 358.0 & 8.013 & 73.403 & 0.044 & 76102.1 & 33978.0 & 18044.2 & $\\dots$ \\\\\n",
       "\t20 &  & accelerating & 378.0 & 8.122 & 75.882 & 0.043 & 75230.5 & 34051.0 & 18044.2 & $\\dots$ \\\\\n",
       "\t21 &  & accelerating & 398.0 & 8.227 & 78.329 & 0.042 & 74411.4 & 34122.4 & 18044.2 & $\\dots$ \\\\\n",
       "\t22 &  & accelerating & 399.0 & 8.232 & 78.451 & 0.089 & 74371.6 & -10984.7 & -27066.4 & $\\dots$ \\\\\n",
       "\t23 &  & accelerating & 419.0 & 8.445 & 80.849 & 0.087 & 72783.8 & -10836.7 & -27066.4 & $\\dots$ \\\\\n",
       "\t24 &  & accelerating & 439.0 & 8.649 & 83.189 & 0.085 & 71337.8 & -10691.7 & -27066.4 & $\\dots$ \\\\\n",
       "\t25 &  & accelerating & 459.0 & 8.844 & 85.476 & 0.084 & 69974.5 & -10549.5 & -27066.4 & $\\dots$ \\\\\n",
       "\t26 &  & accelerating & 479.0 & 9.031 & 87.714 & 0.082 & 68690.6 & -10409.9 & -27066.4 & $\\dots$ \\\\\n",
       "\t27 &  & accelerating & 499.0 & 9.212 & 89.906 & 0.081 & 67470.8 & -10272.8 & -27066.4 & $\\dots$ \\\\\n",
       "\t28 &  & accelerating & 500.0 & 9.221 & 90.015 & 0.053 & 67412.6 & 16800.3 & 0.0 & $\\dots$ \\\\\n",
       "\t29 &  & accelerating & 520.0 & 9.334 & 92.17 & 0.052 & 66660.6 & 16888.0 & 0.0 & $\\dots$ \\\\\n",
       "\t30 &  & accelerating & 540.0 & 9.444 & 94.3 & 0.051 & 65929.8 & 16974.3 & 0.0 & $\\dots$ \\\\\n",
       "\t$\\dots$ & $\\dots$ & $\\dots$ & $\\dots$ & $\\dots$ & $\\dots$ & $\\dots$ & $\\dots$ & $\\dots$ & $\\dots$ &  \\\\\n",
       "\\end{tabular}\n"
      ],
      "text/plain": [
       "\u001b[1m4370×11 DataFrame\u001b[0m\n",
       "\u001b[1m  Row \u001b[0m│\u001b[1m label  \u001b[0m\u001b[1m driving_mode \u001b[0m\u001b[1m s        \u001b[0m\u001b[1m v      \u001b[0m\u001b[1m t        \u001b[0m\u001b[1m a      \u001b[0m\u001b[1m F_T         \u001b[0m ⋯\n",
       "\u001b[1m      \u001b[0m│\u001b[90m String \u001b[0m\u001b[90m String       \u001b[0m\u001b[90m Real     \u001b[0m\u001b[90m Real   \u001b[0m\u001b[90m Real     \u001b[0m\u001b[90m Real   \u001b[0m\u001b[90m Real        \u001b[0m ⋯\n",
       "──────┼─────────────────────────────────────────────────────────────────────────\n",
       "    1 │         breakFree          0.0   0.0       0.0     0.181  186940.0     ⋯\n",
       "    2 │         accelerating      20.0   2.689    14.877   0.138       1.45761\n",
       "    3 │         accelerating      40.0   3.568    21.27    0.121       1.30408\n",
       "    4 │         accelerating      60.0   4.194    26.423   0.111       1.20455\n",
       "    5 │         accelerating      80.0   4.692    30.925   0.103  113093.0     ⋯\n",
       "    6 │         accelerating     100.0   5.112    35.004   0.097       1.07291\n",
       "    7 │         accelerating     120.0   5.478    38.782   0.092       1.02527\n",
       "    8 │         accelerating     140.0   5.802    42.328   0.087   98500.3\n",
       "    9 │         accelerating     160.0   6.096    45.69    0.083   95022.5     ⋯\n",
       "   10 │         accelerating     180.0   6.364    48.9     0.08    91985.4\n",
       "   11 │         accelerating     200.0   6.611    51.983   0.077   89303.4\n",
       "  ⋮   │   ⋮          ⋮           ⋮        ⋮        ⋮        ⋮           ⋮      ⋱\n",
       " 4361 │         braking       101625.0   8.874  8516.39   -0.225       0.0\n",
       " 4362 │         braking       101645.0   8.351  8518.72   -0.225       0.0     ⋯\n",
       " 4363 │         braking       101665.0   7.794  8521.19   -0.225       0.0\n",
       " 4364 │         braking       101685.0   7.194  8523.86   -0.225       0.0\n",
       " 4365 │         braking       101705.0   6.538  8526.77   -0.225       0.0\n",
       " 4366 │         braking       101725.0   5.809  8530.01   -0.225       0.0     ⋯\n",
       " 4367 │         braking       101745.0   4.975  8533.72   -0.225       0.0\n",
       " 4368 │         braking       101765.0   3.968  8538.2    -0.225       0.0\n",
       " 4369 │         braking       101785.0   2.598  8544.29   -0.225       0.0\n",
       " 4370 │         halt          101800.0   0.0    8555.84    0.0         0.0     ⋯\n",
       "\u001b[36m                                                 5 columns and 4349 rows omitted\u001b[0m"
      ]
     },
     "execution_count": 42,
     "metadata": {},
     "output_type": "execute_result"
    }
   ],
   "source": [
    "run_realworld_freight = trainrun(freight_train, realworld_path, settings_all)"
   ]
  },
  {
   "cell_type": "code",
   "execution_count": 43,
   "id": "83657e02",
   "metadata": {},
   "outputs": [],
   "source": [
    "# new but empty figure\n",
    "fig_realworld = Figure()\n",
    "#  adding distance speed axis to the figure\n",
    "sv_diagram_realworld = Axis(fig_realworld[1,1],\n",
    "    # title = \"s-v-diagram\",\n",
    "    xlabel = \"distance in km\",\n",
    "    xaxisposition =  :top,\n",
    "    xticks = 0:10:run_realworld_passenger.s[end]/1000,\n",
    "    xticksmirrored = true,\n",
    "    ylabel = \"speed in km/h\",\n",
    "    ytickformat = \"{:.1f}\",\n",
    "    yticks = 0:20:maximum(run_realworld_passenger.v)*3.6+20,\n",
    "    yticksmirrored = true\n",
    ")\n",
    "# adding distance time axis to the figure\n",
    "st_diagram_realworld = Axis(fig_realworld[2:4,1],\n",
    "    # title = \"s-t-diagram\",\n",
    "    xlabel = \"distance in km\",\n",
    "    xaxisposition =  :bottom,\n",
    "    xticks = 0:10:run_realworld_passenger.s[end]/1000,\n",
    "    xticksmirrored = true,\n",
    "    ylabel = \"time in min\",\n",
    "    ytickformat = \"{:.1f}\",\n",
    "    yticksmirrored = true,\n",
    "    yreversed = true\n",
    ")\n",
    "linkxaxes!(sv_diagram_realworld, st_diagram_realworld)"
   ]
  },
  {
   "cell_type": "code",
   "execution_count": 44,
   "id": "8f493a47",
   "metadata": {},
   "outputs": [
    {
     "data": {
      "text/plain": [
       "Lines{Tuple{Vector{Point{2, Float32}}}}"
      ]
     },
     "execution_count": 44,
     "metadata": {},
     "output_type": "execute_result"
    }
   ],
   "source": [
    "lines!(\n",
    "\tsv_diagram_realworld,\n",
    "\trun_realworld_passenger.s./1000,\n",
    "\trun_realworld_passenger.v.*3.6,\n",
    "\tcolor = :blue\n",
    ")\n",
    "lines!(\n",
    "\tst_diagram_realworld,\n",
    "\trun_realworld_passenger.s./1000,\n",
    "\trun_realworld_passenger.t./60,\n",
    "\tcolor = :blue,\n",
    "\tlabel = \"passenger train\")\n",
    "lines!(\n",
    "\tsv_diagram_realworld,\n",
    "\trun_realworld_freight.s./1000,\n",
    "\trun_realworld_freight.v.*3.6,\n",
    "\tcolor = :red\n",
    ")\n",
    "lines!(\n",
    "\tst_diagram_realworld,\n",
    "\trun_realworld_freight.s./1000,\n",
    "\trun_realworld_freight.t./60,\n",
    "\tcolor = :red,\n",
    "\tlabel = \"freight train\"\n",
    ")"
   ]
  },
  {
   "cell_type": "code",
   "execution_count": 45,
   "id": "3c48b780",
   "metadata": {},
   "outputs": [
    {
     "data": {
      "image/png": "[encoded data removed]",
      "text/plain": [
       "Figure()"
      ]
     },
     "execution_count": 45,
     "metadata": {},
     "output_type": "execute_result"
    }
   ],
   "source": [
    "fig_realworld"
   ]
  },
  {
   "cell_type": "code",
   "execution_count": null,
   "id": "027535ab",
   "metadata": {},
   "outputs": [],
   "source": []
  }
 ],
 "metadata": {
  "kernelspec": {
   "display_name": "Julia 1.8.1",
   "language": "julia",
   "name": "julia-1.8"
  },
  "language_info": {
   "file_extension": ".jl",
   "mimetype": "application/julia",
   "name": "julia",
   "version": "1.8.1"
  }
 },
 "nbformat": 4,
 "nbformat_minor": 5
}
